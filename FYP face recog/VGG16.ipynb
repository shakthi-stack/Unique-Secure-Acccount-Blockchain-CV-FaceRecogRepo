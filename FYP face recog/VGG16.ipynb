{
 "cells": [
  {
   "cell_type": "code",
   "execution_count": 41,
   "id": "72fb94f1",
   "metadata": {},
   "outputs": [],
   "source": [
    "import numpy as np\n",
    "import pandas as pd\n",
    "import tensorflow as tf\n",
    "import matplotlib.pyplot as plt"
   ]
  },
  {
   "cell_type": "code",
   "execution_count": 2,
   "id": "221417d5",
   "metadata": {},
   "outputs": [],
   "source": [
    "import os"
   ]
  },
  {
   "cell_type": "code",
   "execution_count": 3,
   "id": "730c6237",
   "metadata": {},
   "outputs": [
    {
     "name": "stdout",
     "output_type": "stream",
     "text": [
      "['faceTrain', 'FYP face recog', 'FYP-P1', 'input', 'MLDM', 'NCP', 'NCP-Project', 'NLP', 'ORLDatabase', 'ORLinput', 'ORLTest', 'ORLTrain', 'PDC', 'SICP', 'test', 'train']\n"
     ]
    }
   ],
   "source": [
    "print(os.listdir(\"../\"))"
   ]
  },
  {
   "cell_type": "code",
   "execution_count": 6,
   "id": "38fe21ed",
   "metadata": {},
   "outputs": [],
   "source": [
    "import keras\n",
    "from keras.models import Model\n",
    "from keras.layers import Dense\n",
    "from keras import optimizers\n",
    "from keras.preprocessing.image import ImageDataGenerator\n",
    "from keras.preprocessing import image"
   ]
  },
  {
   "cell_type": "code",
   "execution_count": 7,
   "id": "0a74302a",
   "metadata": {},
   "outputs": [
    {
     "data": {
      "text/plain": [
       "['0', '1', '2', '3', '4', '5', '6', '7', '8', '9']"
      ]
     },
     "execution_count": 7,
     "metadata": {},
     "output_type": "execute_result"
    }
   ],
   "source": [
    "os.listdir(\"../ORLtrain\")"
   ]
  },
  {
   "cell_type": "code",
   "execution_count": 8,
   "id": "cdf55a3b",
   "metadata": {},
   "outputs": [
    {
     "name": "stdout",
     "output_type": "stream",
     "text": [
      "Found 57 images belonging to 10 classes.\n"
     ]
    }
   ],
   "source": [
    "trdata = ImageDataGenerator()\n",
    "traindata = trdata.flow_from_directory(directory=\"../ORLtrain\",target_size=(224,224))"
   ]
  },
  {
   "cell_type": "code",
   "execution_count": 10,
   "id": "85dd7925",
   "metadata": {},
   "outputs": [
    {
     "name": "stdout",
     "output_type": "stream",
     "text": [
      "Found 36 images belonging to 10 classes.\n"
     ]
    }
   ],
   "source": [
    "tsdata = ImageDataGenerator()\n",
    "testdata = tsdata.flow_from_directory(directory=\"../ORLtest\", target_size=(224,224))"
   ]
  },
  {
   "cell_type": "code",
   "execution_count": 11,
   "id": "dfc9533f",
   "metadata": {},
   "outputs": [],
   "source": [
    "from keras.applications.vgg16 import VGG16"
   ]
  },
  {
   "cell_type": "code",
   "execution_count": 12,
   "id": "22004adf",
   "metadata": {},
   "outputs": [],
   "source": [
    "vggmodel = VGG16(weights='imagenet', include_top=True)"
   ]
  },
  {
   "cell_type": "code",
   "execution_count": 13,
   "id": "d5ea32a9",
   "metadata": {},
   "outputs": [
    {
     "name": "stdout",
     "output_type": "stream",
     "text": [
      "Model: \"vgg16\"\n",
      "_________________________________________________________________\n",
      "Layer (type)                 Output Shape              Param #   \n",
      "=================================================================\n",
      "input_1 (InputLayer)         [(None, 224, 224, 3)]     0         \n",
      "_________________________________________________________________\n",
      "block1_conv1 (Conv2D)        (None, 224, 224, 64)      1792      \n",
      "_________________________________________________________________\n",
      "block1_conv2 (Conv2D)        (None, 224, 224, 64)      36928     \n",
      "_________________________________________________________________\n",
      "block1_pool (MaxPooling2D)   (None, 112, 112, 64)      0         \n",
      "_________________________________________________________________\n",
      "block2_conv1 (Conv2D)        (None, 112, 112, 128)     73856     \n",
      "_________________________________________________________________\n",
      "block2_conv2 (Conv2D)        (None, 112, 112, 128)     147584    \n",
      "_________________________________________________________________\n",
      "block2_pool (MaxPooling2D)   (None, 56, 56, 128)       0         \n",
      "_________________________________________________________________\n",
      "block3_conv1 (Conv2D)        (None, 56, 56, 256)       295168    \n",
      "_________________________________________________________________\n",
      "block3_conv2 (Conv2D)        (None, 56, 56, 256)       590080    \n",
      "_________________________________________________________________\n",
      "block3_conv3 (Conv2D)        (None, 56, 56, 256)       590080    \n",
      "_________________________________________________________________\n",
      "block3_pool (MaxPooling2D)   (None, 28, 28, 256)       0         \n",
      "_________________________________________________________________\n",
      "block4_conv1 (Conv2D)        (None, 28, 28, 512)       1180160   \n",
      "_________________________________________________________________\n",
      "block4_conv2 (Conv2D)        (None, 28, 28, 512)       2359808   \n",
      "_________________________________________________________________\n",
      "block4_conv3 (Conv2D)        (None, 28, 28, 512)       2359808   \n",
      "_________________________________________________________________\n",
      "block4_pool (MaxPooling2D)   (None, 14, 14, 512)       0         \n",
      "_________________________________________________________________\n",
      "block5_conv1 (Conv2D)        (None, 14, 14, 512)       2359808   \n",
      "_________________________________________________________________\n",
      "block5_conv2 (Conv2D)        (None, 14, 14, 512)       2359808   \n",
      "_________________________________________________________________\n",
      "block5_conv3 (Conv2D)        (None, 14, 14, 512)       2359808   \n",
      "_________________________________________________________________\n",
      "block5_pool (MaxPooling2D)   (None, 7, 7, 512)         0         \n",
      "_________________________________________________________________\n",
      "flatten (Flatten)            (None, 25088)             0         \n",
      "_________________________________________________________________\n",
      "fc1 (Dense)                  (None, 4096)              102764544 \n",
      "_________________________________________________________________\n",
      "fc2 (Dense)                  (None, 4096)              16781312  \n",
      "_________________________________________________________________\n",
      "predictions (Dense)          (None, 1000)              4097000   \n",
      "=================================================================\n",
      "Total params: 138,357,544\n",
      "Trainable params: 138,357,544\n",
      "Non-trainable params: 0\n",
      "_________________________________________________________________\n"
     ]
    }
   ],
   "source": [
    "vggmodel.summary()"
   ]
  },
  {
   "cell_type": "code",
   "execution_count": 14,
   "id": "dea7da6c",
   "metadata": {},
   "outputs": [
    {
     "name": "stdout",
     "output_type": "stream",
     "text": [
      "<keras.engine.input_layer.InputLayer object at 0x0000024392917340>\n",
      "<keras.layers.convolutional.Conv2D object at 0x000002439294BA90>\n",
      "<keras.layers.convolutional.Conv2D object at 0x0000024392CA5580>\n",
      "<keras.layers.pooling.MaxPooling2D object at 0x0000024392CA5190>\n",
      "<keras.layers.convolutional.Conv2D object at 0x0000024392D319D0>\n",
      "<keras.layers.convolutional.Conv2D object at 0x0000024392D366D0>\n",
      "<keras.layers.pooling.MaxPooling2D object at 0x0000024392D01940>\n",
      "<keras.layers.convolutional.Conv2D object at 0x0000024392D317C0>\n",
      "<keras.layers.convolutional.Conv2D object at 0x0000024392D42A90>\n",
      "<keras.layers.convolutional.Conv2D object at 0x0000024392D45DC0>\n",
      "<keras.layers.pooling.MaxPooling2D object at 0x0000024392D3BA00>\n",
      "<keras.layers.convolutional.Conv2D object at 0x0000024392D714C0>\n",
      "<keras.layers.convolutional.Conv2D object at 0x0000024392D78280>\n",
      "<keras.layers.convolutional.Conv2D object at 0x0000024392D785E0>\n",
      "<keras.layers.pooling.MaxPooling2D object at 0x0000024392D78F40>\n",
      "<keras.layers.convolutional.Conv2D object at 0x0000024392D82430>\n",
      "<keras.layers.convolutional.Conv2D object at 0x0000024392D82220>\n",
      "<keras.layers.convolutional.Conv2D object at 0x0000024392D873D0>\n",
      "<keras.layers.pooling.MaxPooling2D object at 0x0000024392D82B50>\n",
      "<keras.layers.core.Flatten object at 0x0000024392D8CA90>\n",
      "<keras.layers.core.Dense object at 0x0000024392D92CA0>\n",
      "<keras.layers.core.Dense object at 0x0000024392D71040>\n",
      "<keras.layers.core.Dense object at 0x0000024392D9A5E0>\n"
     ]
    }
   ],
   "source": [
    "for layers in (vggmodel.layers):\n",
    "    print(layers)\n",
    "    layers.trainable = False"
   ]
  },
  {
   "cell_type": "code",
   "execution_count": 15,
   "id": "fba4c56d",
   "metadata": {},
   "outputs": [],
   "source": [
    "X= vggmodel.layers[-2].output"
   ]
  },
  {
   "cell_type": "code",
   "execution_count": 16,
   "id": "e2222bce",
   "metadata": {},
   "outputs": [],
   "source": [
    "predictions = Dense(10, activation=\"softmax\")(X)"
   ]
  },
  {
   "cell_type": "code",
   "execution_count": 17,
   "id": "5899ee67",
   "metadata": {},
   "outputs": [],
   "source": [
    "model_final = Model(inputs = vggmodel.input, outputs = predictions)"
   ]
  },
  {
   "cell_type": "code",
   "execution_count": 18,
   "id": "31d48c43",
   "metadata": {},
   "outputs": [
    {
     "name": "stderr",
     "output_type": "stream",
     "text": [
      "C:\\Users\\shakt\\anaconda3\\envs\\vggfacemodel\\lib\\site-packages\\keras\\optimizer_v2\\optimizer_v2.py:355: UserWarning: The `lr` argument is deprecated, use `learning_rate` instead.\n",
      "  warnings.warn(\n"
     ]
    }
   ],
   "source": [
    "model_final.compile(loss = \"categorical_crossentropy\", optimizer = tf.keras.optimizers.SGD(lr=0.0001, momentum=0.9), metrics=[\"accuracy\"])"
   ]
  },
  {
   "cell_type": "code",
   "execution_count": 19,
   "id": "c21c4a20",
   "metadata": {},
   "outputs": [
    {
     "name": "stdout",
     "output_type": "stream",
     "text": [
      "Model: \"model\"\n",
      "_________________________________________________________________\n",
      "Layer (type)                 Output Shape              Param #   \n",
      "=================================================================\n",
      "input_1 (InputLayer)         [(None, 224, 224, 3)]     0         \n",
      "_________________________________________________________________\n",
      "block1_conv1 (Conv2D)        (None, 224, 224, 64)      1792      \n",
      "_________________________________________________________________\n",
      "block1_conv2 (Conv2D)        (None, 224, 224, 64)      36928     \n",
      "_________________________________________________________________\n",
      "block1_pool (MaxPooling2D)   (None, 112, 112, 64)      0         \n",
      "_________________________________________________________________\n",
      "block2_conv1 (Conv2D)        (None, 112, 112, 128)     73856     \n",
      "_________________________________________________________________\n",
      "block2_conv2 (Conv2D)        (None, 112, 112, 128)     147584    \n",
      "_________________________________________________________________\n",
      "block2_pool (MaxPooling2D)   (None, 56, 56, 128)       0         \n",
      "_________________________________________________________________\n",
      "block3_conv1 (Conv2D)        (None, 56, 56, 256)       295168    \n",
      "_________________________________________________________________\n",
      "block3_conv2 (Conv2D)        (None, 56, 56, 256)       590080    \n",
      "_________________________________________________________________\n",
      "block3_conv3 (Conv2D)        (None, 56, 56, 256)       590080    \n",
      "_________________________________________________________________\n",
      "block3_pool (MaxPooling2D)   (None, 28, 28, 256)       0         \n",
      "_________________________________________________________________\n",
      "block4_conv1 (Conv2D)        (None, 28, 28, 512)       1180160   \n",
      "_________________________________________________________________\n",
      "block4_conv2 (Conv2D)        (None, 28, 28, 512)       2359808   \n",
      "_________________________________________________________________\n",
      "block4_conv3 (Conv2D)        (None, 28, 28, 512)       2359808   \n",
      "_________________________________________________________________\n",
      "block4_pool (MaxPooling2D)   (None, 14, 14, 512)       0         \n",
      "_________________________________________________________________\n",
      "block5_conv1 (Conv2D)        (None, 14, 14, 512)       2359808   \n",
      "_________________________________________________________________\n",
      "block5_conv2 (Conv2D)        (None, 14, 14, 512)       2359808   \n",
      "_________________________________________________________________\n",
      "block5_conv3 (Conv2D)        (None, 14, 14, 512)       2359808   \n",
      "_________________________________________________________________\n",
      "block5_pool (MaxPooling2D)   (None, 7, 7, 512)         0         \n",
      "_________________________________________________________________\n",
      "flatten (Flatten)            (None, 25088)             0         \n",
      "_________________________________________________________________\n",
      "fc1 (Dense)                  (None, 4096)              102764544 \n",
      "_________________________________________________________________\n",
      "fc2 (Dense)                  (None, 4096)              16781312  \n",
      "_________________________________________________________________\n",
      "dense (Dense)                (None, 10)                40970     \n",
      "=================================================================\n",
      "Total params: 134,301,514\n",
      "Trainable params: 40,970\n",
      "Non-trainable params: 134,260,544\n",
      "_________________________________________________________________\n"
     ]
    }
   ],
   "source": [
    "model_final.summary()"
   ]
  },
  {
   "cell_type": "code",
   "execution_count": 20,
   "id": "e0f4c72e",
   "metadata": {},
   "outputs": [],
   "source": [
    "from keras.callbacks import ModelCheckpoint, LearningRateScheduler, TensorBoard, EarlyStopping"
   ]
  },
  {
   "cell_type": "code",
   "execution_count": 30,
   "id": "d8f2e63d",
   "metadata": {},
   "outputs": [
    {
     "name": "stdout",
     "output_type": "stream",
     "text": [
      "WARNING:tensorflow:`period` argument is deprecated. Please use `save_freq` to specify the frequency in number of batches seen.\n"
     ]
    }
   ],
   "source": [
    "checkpoint = ModelCheckpoint(\"vgg16_1.h5\", monitor='accuracy', verbose=1, save_best_only=True, save_weights_only=False, mode='auto', period=1)\n",
    "early = EarlyStopping(monitor='val_acc', min_delta=0, patience=40, verbose=1, mode='auto')"
   ]
  },
  {
   "cell_type": "code",
   "execution_count": 31,
   "id": "b2023cee",
   "metadata": {},
   "outputs": [
    {
     "name": "stdout",
     "output_type": "stream",
     "text": [
      "Epoch 1/5\n",
      "2/2 [==============================] - 1s 756ms/step - loss: 2.0800 - accuracy: 0.2982 - val_loss: 3.0623 - val_accuracy: 0.0625\n",
      "\n",
      "Epoch 00001: accuracy improved from -inf to 0.29825, saving model to vgg16_1.h5\n",
      "WARNING:tensorflow:Early stopping conditioned on metric `val_acc` which is not available. Available metrics are: loss,accuracy,val_loss,val_accuracy\n",
      "Epoch 2/5\n",
      "2/2 [==============================] - 1s 693ms/step - loss: 1.9741 - accuracy: 0.2632 - val_loss: 3.2423 - val_accuracy: 0.0625\n",
      "\n",
      "Epoch 00002: accuracy did not improve from 0.29825\n",
      "WARNING:tensorflow:Early stopping conditioned on metric `val_acc` which is not available. Available metrics are: loss,accuracy,val_loss,val_accuracy\n",
      "Epoch 3/5\n",
      "2/2 [==============================] - 1s 749ms/step - loss: 1.8485 - accuracy: 0.3158 - val_loss: 3.4593 - val_accuracy: 0.0000e+00\n",
      "\n",
      "Epoch 00003: accuracy improved from 0.29825 to 0.31579, saving model to vgg16_1.h5\n",
      "WARNING:tensorflow:Early stopping conditioned on metric `val_acc` which is not available. Available metrics are: loss,accuracy,val_loss,val_accuracy\n",
      "Epoch 4/5\n",
      "2/2 [==============================] - 1s 749ms/step - loss: 1.6810 - accuracy: 0.3860 - val_loss: 3.4571 - val_accuracy: 0.0312\n",
      "\n",
      "Epoch 00004: accuracy improved from 0.31579 to 0.38596, saving model to vgg16_1.h5\n",
      "WARNING:tensorflow:Early stopping conditioned on metric `val_acc` which is not available. Available metrics are: loss,accuracy,val_loss,val_accuracy\n",
      "Epoch 5/5\n",
      "2/2 [==============================] - 1s 746ms/step - loss: 1.4712 - accuracy: 0.4737 - val_loss: 3.3646 - val_accuracy: 0.0000e+00\n",
      "\n",
      "Epoch 00005: accuracy improved from 0.38596 to 0.47368, saving model to vgg16_1.h5\n",
      "WARNING:tensorflow:Early stopping conditioned on metric `val_acc` which is not available. Available metrics are: loss,accuracy,val_loss,val_accuracy\n"
     ]
    }
   ],
   "source": [
    "hist = model_final.fit_generator(generator= traindata, steps_per_epoch= 2, epochs= 5, validation_data= testdata, validation_steps=1, callbacks=[checkpoint,early])"
   ]
  },
  {
   "cell_type": "code",
   "execution_count": 32,
   "id": "cb6d49ae",
   "metadata": {},
   "outputs": [],
   "source": [
    "model_final.save_weights(\"vgg16_1.h5\")\n"
   ]
  },
  {
   "cell_type": "code",
   "execution_count": 33,
   "id": "a727e077",
   "metadata": {},
   "outputs": [
    {
     "name": "stdout",
     "output_type": "stream",
     "text": [
      "100_10.jpg\n",
      "[[0.03446361 0.016611   0.11913989 0.01745102 0.01188444 0.03521147\n",
      "  0.24573034 0.01896155 0.03309604 0.46745062]]\n",
      "10_1.jpg\n",
      "[[0.03050304 0.06084248 0.02795632 0.08306099 0.02367211 0.00882624\n",
      "  0.7284576  0.02476986 0.00130187 0.01060944]]\n",
      "14_2.jpg\n",
      "[[7.5701177e-02 2.8445616e-01 5.7817411e-02 1.2315610e-01 1.9669144e-01\n",
      "  6.8530053e-02 1.4903396e-01 3.3549346e-02 2.5607695e-04 1.0808286e-02]]\n",
      "18_2.jpg\n",
      "[[3.2148533e-02 7.0103610e-01 2.6974952e-02 6.4097732e-02 3.2956541e-02\n",
      "  3.2684974e-02 6.8891600e-02 9.0948939e-03 2.1370292e-04 3.1900913e-02]]\n",
      "19_2.jpg\n",
      "[[1.3342737e-02 8.6660427e-01 7.7693346e-03 2.5304303e-02 3.0461648e-02\n",
      "  2.4429997e-02 2.0611200e-02 6.8974257e-03 2.6669115e-04 4.3124193e-03]]\n",
      "20_2.jpg\n",
      "[[2.6117394e-02 6.1405796e-01 1.0857296e-02 5.7728402e-02 3.9161384e-02\n",
      "  3.6433507e-02 1.3504651e-01 3.2846227e-02 9.8670826e-05 4.7652699e-02]]\n",
      "24_3.jpg\n",
      "[[0.10708264 0.08972596 0.14451031 0.08286086 0.12753673 0.08637624\n",
      "  0.19253528 0.10886078 0.00127553 0.0592357 ]]\n",
      "28_3.jpg\n",
      "[[0.00790529 0.0237257  0.27095222 0.19679911 0.11945004 0.03976912\n",
      "  0.23767105 0.07952624 0.0007913  0.0234099 ]]\n",
      "29_3.jpg\n",
      "[[0.02854534 0.0506498  0.22602849 0.15763927 0.1624595  0.08987674\n",
      "  0.14225651 0.11417524 0.00051427 0.02785487]]\n",
      "30_3.jpg\n",
      "[[3.0259233e-02 6.3465349e-02 1.4277223e-01 9.9066168e-02 1.6075802e-01\n",
      "  4.7589477e-02 3.0841181e-01 1.1860171e-01 2.5763019e-04 2.8818425e-02]]\n",
      "34_4.jpg\n",
      "[[0.05170092 0.02022646 0.06849137 0.33083025 0.08752131 0.01272234\n",
      "  0.3635726  0.0326042  0.00158735 0.03074323]]\n",
      "38_4.jpg\n",
      "[[0.05784814 0.1368995  0.08070714 0.30841663 0.04385511 0.16582182\n",
      "  0.06945346 0.02405255 0.00108018 0.11186555]]\n",
      "39_4.jpg\n",
      "[[0.0215426  0.37286967 0.12801315 0.19041611 0.01122878 0.04487422\n",
      "  0.05876046 0.05765433 0.00102614 0.11361454]]\n",
      "40_4.jpg\n",
      "[[0.2256891  0.00343005 0.05922977 0.14319427 0.04769767 0.02369163\n",
      "  0.38845643 0.06781402 0.00079562 0.04000136]]\n",
      "44_5.jpg\n",
      "[[0.07768142 0.03517266 0.08217011 0.26320955 0.11078791 0.19661064\n",
      "  0.07166763 0.15205039 0.00058826 0.01006132]]\n",
      "48_5.jpg\n",
      "[[0.0898158  0.07911827 0.07989717 0.2955262  0.0462995  0.09080579\n",
      "  0.17780201 0.12216099 0.00303315 0.01554107]]\n",
      "49_5.jpg\n",
      "[[0.10742862 0.09631353 0.05903755 0.34011725 0.0410282  0.05948104\n",
      "  0.16073017 0.12162083 0.00238771 0.01185513]]\n",
      "4_1.jpg\n",
      "[[0.09325953 0.0260644  0.12883309 0.18529743 0.07649685 0.00691247\n",
      "  0.2759022  0.13548192 0.00106481 0.07068734]]\n",
      "50_5.jpg\n",
      "[[0.17853624 0.06424571 0.08971225 0.20938513 0.04813368 0.02371825\n",
      "  0.18897314 0.17643519 0.00103374 0.0198268 ]]\n",
      "54_6.jpg\n",
      "[[5.1793702e-02 4.6053674e-02 6.2175889e-02 1.2385416e-01 3.4976251e-02\n",
      "  5.0024426e-01 1.0732137e-01 4.8960499e-02 2.4488734e-04 2.4375303e-02]]\n",
      "58_6.jpg\n",
      "[[9.80735943e-03 9.61219706e-03 1.79269593e-02 8.32498521e-02\n",
      "  1.06974365e-02 8.24231327e-01 3.27006914e-02 7.21743749e-03\n",
      "  1.00365345e-04 4.45638737e-03]]\n",
      "59_6.jpg\n",
      "[[0.045441   0.0910235  0.10466409 0.0768719  0.07524855 0.48949048\n",
      "  0.05153199 0.05542603 0.00433077 0.00597169]]\n",
      "60_6.jpg\n",
      "[[2.79792100e-02 2.95706764e-02 2.99171340e-02 2.19713300e-01\n",
      "  4.89995778e-02 5.31677961e-01 8.00215974e-02 2.16639508e-02\n",
      "  1.00765305e-04 1.03558041e-02]]\n",
      "64_7.jpg\n",
      "[[3.3858676e-02 5.9102494e-01 2.6628913e-02 3.5056755e-02 3.9087355e-02\n",
      "  8.7242797e-02 1.7342995e-01 8.9288708e-03 1.8457106e-04 4.5571625e-03]]\n",
      "68_7.jpg\n",
      "[[2.5405416e-01 3.8262010e-02 8.6901844e-02 6.2939875e-02 1.5413070e-01\n",
      "  9.0975109e-03 3.2034418e-01 6.9667108e-02 2.4303865e-04 4.3595731e-03]]\n",
      "69_7.jpg\n",
      "[[0.27139562 0.21563531 0.09832822 0.0292374  0.09162741 0.00686271\n",
      "  0.16389666 0.10144489 0.00027801 0.02129376]]\n",
      "70_7.jpg\n",
      "[[1.0961636e-01 6.0409880e-01 4.8172627e-02 1.5947215e-01 1.8036937e-02\n",
      "  6.6986964e-03 2.9291369e-02 5.5283303e-03 1.7495037e-04 1.8909769e-02]]\n",
      "74_8.jpg\n",
      "[[0.14712004 0.04787952 0.02962846 0.06188628 0.09364569 0.08189071\n",
      "  0.10785798 0.2920349  0.00115145 0.13690494]]\n",
      "78_8.jpg\n",
      "[[0.0556627  0.01856169 0.06821299 0.18387847 0.13434795 0.08622049\n",
      "  0.18241714 0.20265579 0.00201921 0.06602357]]\n",
      "79_8.jpg\n",
      "[[0.05328174 0.04124186 0.07262406 0.18346107 0.16618766 0.03586202\n",
      "  0.20829722 0.18718599 0.00190823 0.04995017]]\n",
      "80_8.jpg\n",
      "[[0.03317358 0.00952538 0.07780457 0.3313537  0.18284024 0.07106162\n",
      "  0.13273099 0.07949949 0.00057974 0.08143066]]\n",
      "8_1.jpg\n",
      "[[0.13782598 0.07627206 0.02192149 0.08481145 0.07706194 0.0164204\n",
      "  0.53926826 0.03698835 0.00259398 0.00683613]]\n",
      "93_9.jpg\n",
      "[[0.01355429 0.13411812 0.02097389 0.09058223 0.2000732  0.01775745\n",
      "  0.07068851 0.3711945  0.04953402 0.03152377]]\n",
      "94_9.jpg\n",
      "[[0.00260711 0.0227679  0.00344422 0.03725485 0.03602143 0.0130025\n",
      "  0.05359123 0.7245015  0.00192389 0.10488529]]\n",
      "99_10.jpg\n",
      "[[0.01838214 0.01151848 0.14832075 0.01515022 0.00813321 0.02618327\n",
      "  0.32230324 0.02174701 0.02571998 0.4025416 ]]\n",
      "9_1.jpg\n",
      "[[0.1809392  0.08024394 0.10305347 0.10244814 0.07233149 0.03105899\n",
      "  0.21102956 0.08121562 0.00126556 0.1364141 ]]\n"
     ]
    }
   ],
   "source": [
    "for e,i in enumerate(os.listdir(\"../ORLinput/Test\")):\n",
    "    print(i)\n",
    "    output=[]\n",
    "    img = image.load_img(os.path.join(\"../ORLinput/Test\",i),target_size=(224,224))\n",
    "    img = np.asarray(img)\n",
    "    img = np.expand_dims(img, axis=0)\n",
    "    output = model_final.predict(img)\n",
    "    print(output)\n",
    "#     if output[0][0] > output[0][1]:\n",
    "#         print(\"A\")\n",
    "# #         df[\"id\"][e]=i\n",
    "# #         df[\"label\"][e]=\"cat\"\n",
    "#     else:\n",
    "#         print(\"B\")\n",
    "# #         df[\"id\"][e]=i\n",
    "# #         df[\"label\"][e]=\"dog"
   ]
  },
  {
   "cell_type": "code",
   "execution_count": 34,
   "id": "e49b5a92",
   "metadata": {},
   "outputs": [
    {
     "name": "stdout",
     "output_type": "stream",
     "text": [
      "[6]\n"
     ]
    }
   ],
   "source": [
    "# output[0].where(output[0].max())\n",
    "x = np.where(output[0] == output[0].max())\n",
    "# output[0]\n",
    "x = x[0]\n",
    "print(x)"
   ]
  },
  {
   "cell_type": "code",
   "execution_count": 35,
   "id": "7c2c8551",
   "metadata": {},
   "outputs": [
    {
     "name": "stdout",
     "output_type": "stream",
     "text": [
      "100_10.jpg\n",
      "[9]\n",
      "10_1.jpg\n",
      "[6]\n",
      "14_2.jpg\n",
      "[1]\n",
      "18_2.jpg\n",
      "[1]\n",
      "19_2.jpg\n",
      "[1]\n",
      "20_2.jpg\n",
      "[1]\n",
      "24_3.jpg\n",
      "[6]\n",
      "28_3.jpg\n",
      "[2]\n",
      "29_3.jpg\n",
      "[2]\n",
      "30_3.jpg\n",
      "[6]\n",
      "34_4.jpg\n",
      "[6]\n",
      "38_4.jpg\n",
      "[3]\n",
      "39_4.jpg\n",
      "[1]\n",
      "40_4.jpg\n",
      "[6]\n",
      "44_5.jpg\n",
      "[3]\n",
      "48_5.jpg\n",
      "[3]\n",
      "49_5.jpg\n",
      "[3]\n",
      "4_1.jpg\n",
      "[6]\n",
      "50_5.jpg\n",
      "[3]\n",
      "54_6.jpg\n",
      "[5]\n",
      "58_6.jpg\n",
      "[5]\n",
      "59_6.jpg\n",
      "[5]\n",
      "60_6.jpg\n",
      "[5]\n",
      "64_7.jpg\n",
      "[1]\n",
      "68_7.jpg\n",
      "[6]\n",
      "69_7.jpg\n",
      "[0]\n",
      "70_7.jpg\n",
      "[1]\n",
      "74_8.jpg\n",
      "[7]\n",
      "78_8.jpg\n",
      "[7]\n",
      "79_8.jpg\n",
      "[6]\n",
      "80_8.jpg\n",
      "[3]\n",
      "8_1.jpg\n",
      "[6]\n",
      "93_9.jpg\n",
      "[7]\n",
      "94_9.jpg\n",
      "[7]\n",
      "99_10.jpg\n",
      "[9]\n",
      "9_1.jpg\n",
      "[6]\n"
     ]
    }
   ],
   "source": [
    "for e,i in enumerate(os.listdir(\"../ORLinput/Test\")):\n",
    "    print(i)\n",
    "    output=[]\n",
    "    img = image.load_img(os.path.join(\"../ORLinput/Test\",i),target_size=(224,224))\n",
    "    img = np.asarray(img)\n",
    "    img = np.expand_dims(img, axis=0)\n",
    "    output = model_final.predict(img)\n",
    "    # output[0].where(output[0].max())\n",
    "    x = np.where(output[0] == output[0].max())\n",
    "    # output[0]\n",
    "    x = x[0]\n",
    "    print(x)"
   ]
  },
  {
   "cell_type": "code",
   "execution_count": 36,
   "id": "1912f152",
   "metadata": {},
   "outputs": [
    {
     "data": {
      "text/plain": [
       "<keras.callbacks.History at 0x243b62246d0>"
      ]
     },
     "execution_count": 36,
     "metadata": {},
     "output_type": "execute_result"
    }
   ],
   "source": [
    "hist"
   ]
  },
  {
   "cell_type": "code",
   "execution_count": 37,
   "id": "ff2e708d",
   "metadata": {},
   "outputs": [],
   "source": [
    "acc = hist.history['accuracy']\n",
    "val_acc = hist.history['val_accuracy']"
   ]
  },
  {
   "cell_type": "code",
   "execution_count": 40,
   "id": "c12b54d2",
   "metadata": {},
   "outputs": [],
   "source": [
    "loss = hist.history['loss']\n",
    "val_loss = hist.history['val_loss']"
   ]
  },
  {
   "cell_type": "code",
   "execution_count": 44,
   "id": "31c1dde2",
   "metadata": {},
   "outputs": [
    {
     "data": {
      "text/plain": [
       "[2.0800349712371826,\n",
       " 1.9741209745407104,\n",
       " 1.848515510559082,\n",
       " 1.6810052394866943,\n",
       " 1.4712051153182983]"
      ]
     },
     "execution_count": 44,
     "metadata": {},
     "output_type": "execute_result"
    }
   ],
   "source": [
    "loss"
   ]
  },
  {
   "cell_type": "code",
   "execution_count": 42,
   "id": "ec700d77",
   "metadata": {},
   "outputs": [
    {
     "data": {
      "text/plain": [
       "Text(0.5, 1.0, 'Training and Validation Accuracy')"
      ]
     },
     "execution_count": 42,
     "metadata": {},
     "output_type": "execute_result"
    },
    {
     "data": {
      "image/png": "[encoded data removed]",
      "text/plain": [
       "<Figure size 576x576 with 1 Axes>"
      ]
     },
     "metadata": {
      "needs_background": "light"
     },
     "output_type": "display_data"
    }
   ],
   "source": [
    "plt.figure(figsize=(8, 8))\n",
    "plt.subplot(2, 1, 1)\n",
    "plt.plot(acc, label='Training Accuracy')\n",
    "plt.plot(val_acc, label='Validation Accuracy')\n",
    "plt.legend(loc='lower right')\n",
    "plt.ylabel('Accuracy')\n",
    "plt.ylim([min(plt.ylim()), 1])\n",
    "plt.title('Training and Validation Accuracy')"
   ]
  },
  {
   "cell_type": "code",
   "execution_count": 49,
   "id": "9b7733a3",
   "metadata": {},
   "outputs": [
    {
     "data": {
      "text/plain": [
       "Text(0.5, 0, 'epoch')"
      ]
     },
     "execution_count": 49,
     "metadata": {},
     "output_type": "execute_result"
    },
    {
     "data": {
      "image/png": "[encoded data removed]",
      "text/plain": [
       "<Figure size 720x720 with 1 Axes>"
      ]
     },
     "metadata": {
      "needs_background": "light"
     },
     "output_type": "display_data"
    }
   ],
   "source": [
    "plt.figure(figsize=(10, 10))\n",
    "plt.subplot(2, 1, 2)\n",
    "plt.plot(loss, label='Training Loss')\n",
    "plt.plot(val_loss, label='Validation Loss')\n",
    "plt.legend(loc='upper right')\n",
    "plt.ylabel('Cross Entropy')\n",
    "# plt.ylim([0, 1.0])\n",
    "plt.title('Training and Validation Loss')\n",
    "plt.xlabel('epoch')\n",
    "# plt.show()"
   ]
  },
  {
   "cell_type": "code",
   "execution_count": null,
   "id": "f2021489",
   "metadata": {},
   "outputs": [],
   "source": []
  }
 ],
 "metadata": {
  "kernelspec": {
   "display_name": "Python 3 (ipykernel)",
   "language": "python",
   "name": "python3"
  },
  "language_info": {
   "codemirror_mode": {
    "name": "ipython",
    "version": 3
   },
   "file_extension": ".py",
   "mimetype": "text/x-python",
   "name": "python",
   "nbconvert_exporter": "python",
   "pygments_lexer": "ipython3",
   "version": "3.8.8"
  }
 },
 "nbformat": 4,
 "nbformat_minor": 5
}
