{
 "cells": [
  {
   "cell_type": "code",
   "execution_count": 1,
   "id": "3b0dcef6",
   "metadata": {},
   "outputs": [],
   "source": [
    "import os\n",
    "os.environ['TF_CPP_MIN_LOG_LEVEL'] = '3'\n",
    "from PIL import Image\n",
    "import numpy as np\n",
    "from matplotlib import pyplot as plt"
   ]
  },
  {
   "cell_type": "code",
   "execution_count": 2,
   "id": "20858d76",
   "metadata": {},
   "outputs": [],
   "source": [
    "import tensorflow as tf\n",
    "from tensorflow.keras.models import Model"
   ]
  },
  {
   "cell_type": "code",
   "execution_count": 3,
   "id": "571d68bf",
   "metadata": {},
   "outputs": [],
   "source": [
    "import cv2\n",
    "from mtcnn import MTCNN"
   ]
  },
  {
   "cell_type": "code",
   "execution_count": 4,
   "id": "5592600b",
   "metadata": {},
   "outputs": [
    {
     "name": "stdout",
     "output_type": "stream",
     "text": [
      "Collecting git+https://github.com/rcmalli/keras-vggface.gitNote: you may need to restart the kernel to use updated packages.\n"
     ]
    },
    {
     "name": "stderr",
     "output_type": "stream",
     "text": [
      "  Running command git clone -q https://github.com/rcmalli/keras-vggface.git 'C:\\Users\\shakt\\AppData\\Local\\Temp\\pip-req-build-xt58a20k'"
     ]
    },
    {
     "name": "stdout",
     "output_type": "stream",
     "text": [
      "\n",
      "  Cloning https://github.com/rcmalli/keras-vggface.git to c:\\users\\shakt\\appdata\\local\\temp\\pip-req-build-xt58a20k\n",
      "Requirement already satisfied: numpy>=1.9.1 in c:\\users\\shakt\\anaconda3\\envs\\vggfacemodel\\lib\\site-packages (from keras-vggface==0.6) (1.19.5)\n",
      "Requirement already satisfied: scipy>=0.14 in c:\\users\\shakt\\anaconda3\\envs\\vggfacemodel\\lib\\site-packages (from keras-vggface==0.6) (1.6.2)\n",
      "Requirement already satisfied: h5py in c:\\users\\shakt\\anaconda3\\envs\\vggfacemodel\\lib\\site-packages (from keras-vggface==0.6) (3.1.0)\n",
      "Requirement already satisfied: pillow in c:\\users\\shakt\\anaconda3\\envs\\vggfacemodel\\lib\\site-packages (from keras-vggface==0.6) (8.2.0)\n",
      "Requirement already satisfied: keras in c:\\users\\shakt\\anaconda3\\envs\\vggfacemodel\\lib\\site-packages (from keras-vggface==0.6) (2.6.0)\n",
      "Requirement already satisfied: six>=1.9.0 in c:\\users\\shakt\\anaconda3\\envs\\vggfacemodel\\lib\\site-packages (from keras-vggface==0.6) (1.15.0)\n",
      "Requirement already satisfied: pyyaml in c:\\users\\shakt\\anaconda3\\envs\\vggfacemodel\\lib\\site-packages (from keras-vggface==0.6) (5.4.1)\n"
     ]
    },
    {
     "name": "stderr",
     "output_type": "stream",
     "text": [
      "\n"
     ]
    }
   ],
   "source": [
    "pip install git+https://github.com/rcmalli/keras-vggface.git"
   ]
  },
  {
   "cell_type": "code",
   "execution_count": 5,
   "id": "24fb3532",
   "metadata": {},
   "outputs": [
    {
     "name": "stdout",
     "output_type": "stream",
     "text": [
      "Collecting git+https://github.com/cehorn/GLRM.git\n",
      "  Cloning https://github.com/cehorn/GLRM.git to c:\\users\\shakt\\appdata\\local\\temp\\pip-req-build-mzntpaix\n",
      "Requirement already satisfied: numpy>=1.8 in c:\\users\\shakt\\anaconda3\\envs\\vggfacemodel\\lib\\site-packages (from GLRM==0.0.1) (1.19.5)\n",
      "Requirement already satisfied: scipy>=0.13 in c:\\users\\shakt\\anaconda3\\envs\\vggfacemodel\\lib\\site-packages (from GLRM==0.0.1) (1.6.2)\n",
      "Note: you may need to restart the kernel to use updated packages.\n"
     ]
    },
    {
     "name": "stderr",
     "output_type": "stream",
     "text": [
      "  Running command git clone -q https://github.com/cehorn/GLRM.git 'C:\\Users\\shakt\\AppData\\Local\\Temp\\pip-req-build-mzntpaix'\n"
     ]
    }
   ],
   "source": [
    "pip install git+https://github.com/cehorn/GLRM.git"
   ]
  },
  {
   "cell_type": "code",
   "execution_count": 6,
   "id": "befa44de",
   "metadata": {},
   "outputs": [],
   "source": [
    "from tensorflow.keras.layers import Layer, InputSpec\n",
    "import tensorflow.python.keras.engine"
   ]
  },
  {
   "cell_type": "code",
   "execution_count": 8,
   "id": "b11b9d30",
   "metadata": {},
   "outputs": [],
   "source": [
    "from keras_vggface.utils import preprocess_input\n",
    "from keras_vggface.utils import decode_predictions"
   ]
  },
  {
   "cell_type": "code",
   "execution_count": 9,
   "id": "195824c7",
   "metadata": {},
   "outputs": [],
   "source": [
    "from model import get_model"
   ]
  },
  {
   "cell_type": "code",
   "execution_count": 10,
   "id": "bb591406",
   "metadata": {},
   "outputs": [
    {
     "name": "stdout",
     "output_type": "stream",
     "text": [
      "Model: \"sequential\"\n",
      "_________________________________________________________________\n",
      "Layer (type)                 Output Shape              Param #   \n",
      "=================================================================\n",
      "zero_padding2d (ZeroPadding2 (None, 226, 226, 3)       0         \n",
      "_________________________________________________________________\n",
      "conv2d (Conv2D)              (None, 224, 224, 64)      1792      \n",
      "_________________________________________________________________\n",
      "zero_padding2d_1 (ZeroPaddin (None, 226, 226, 64)      0         \n",
      "_________________________________________________________________\n",
      "conv2d_1 (Conv2D)            (None, 224, 224, 64)      36928     \n",
      "_________________________________________________________________\n",
      "max_pooling2d (MaxPooling2D) (None, 112, 112, 64)      0         \n",
      "_________________________________________________________________\n",
      "zero_padding2d_2 (ZeroPaddin (None, 114, 114, 64)      0         \n",
      "_________________________________________________________________\n",
      "conv2d_2 (Conv2D)            (None, 112, 112, 128)     73856     \n",
      "_________________________________________________________________\n",
      "zero_padding2d_3 (ZeroPaddin (None, 114, 114, 128)     0         \n",
      "_________________________________________________________________\n",
      "conv2d_3 (Conv2D)            (None, 112, 112, 128)     147584    \n",
      "_________________________________________________________________\n",
      "max_pooling2d_1 (MaxPooling2 (None, 56, 56, 128)       0         \n",
      "_________________________________________________________________\n",
      "zero_padding2d_4 (ZeroPaddin (None, 58, 58, 128)       0         \n",
      "_________________________________________________________________\n",
      "conv2d_4 (Conv2D)            (None, 56, 56, 256)       295168    \n",
      "_________________________________________________________________\n",
      "zero_padding2d_5 (ZeroPaddin (None, 58, 58, 256)       0         \n",
      "_________________________________________________________________\n",
      "conv2d_5 (Conv2D)            (None, 56, 56, 256)       590080    \n",
      "_________________________________________________________________\n",
      "zero_padding2d_6 (ZeroPaddin (None, 58, 58, 256)       0         \n",
      "_________________________________________________________________\n",
      "conv2d_6 (Conv2D)            (None, 56, 56, 256)       590080    \n",
      "_________________________________________________________________\n",
      "max_pooling2d_2 (MaxPooling2 (None, 28, 28, 256)       0         \n",
      "_________________________________________________________________\n",
      "zero_padding2d_7 (ZeroPaddin (None, 30, 30, 256)       0         \n",
      "_________________________________________________________________\n",
      "conv2d_7 (Conv2D)            (None, 28, 28, 512)       1180160   \n",
      "_________________________________________________________________\n",
      "zero_padding2d_8 (ZeroPaddin (None, 30, 30, 512)       0         \n",
      "_________________________________________________________________\n",
      "conv2d_8 (Conv2D)            (None, 28, 28, 512)       2359808   \n",
      "_________________________________________________________________\n",
      "zero_padding2d_9 (ZeroPaddin (None, 30, 30, 512)       0         \n",
      "_________________________________________________________________\n",
      "conv2d_9 (Conv2D)            (None, 28, 28, 512)       2359808   \n",
      "_________________________________________________________________\n",
      "max_pooling2d_3 (MaxPooling2 (None, 14, 14, 512)       0         \n",
      "_________________________________________________________________\n",
      "zero_padding2d_10 (ZeroPaddi (None, 16, 16, 512)       0         \n",
      "_________________________________________________________________\n",
      "conv2d_10 (Conv2D)           (None, 14, 14, 512)       2359808   \n",
      "_________________________________________________________________\n",
      "zero_padding2d_11 (ZeroPaddi (None, 16, 16, 512)       0         \n",
      "_________________________________________________________________\n",
      "conv2d_11 (Conv2D)           (None, 14, 14, 512)       2359808   \n",
      "_________________________________________________________________\n",
      "zero_padding2d_12 (ZeroPaddi (None, 16, 16, 512)       0         \n",
      "_________________________________________________________________\n",
      "conv2d_12 (Conv2D)           (None, 14, 14, 512)       2359808   \n",
      "_________________________________________________________________\n",
      "max_pooling2d_4 (MaxPooling2 (None, 7, 7, 512)         0         \n",
      "_________________________________________________________________\n",
      "conv2d_13 (Conv2D)           (None, 1, 1, 4096)        102764544 \n",
      "_________________________________________________________________\n",
      "dropout (Dropout)            (None, 1, 1, 4096)        0         \n",
      "_________________________________________________________________\n",
      "conv2d_14 (Conv2D)           (None, 1, 1, 4096)        16781312  \n",
      "_________________________________________________________________\n",
      "dropout_1 (Dropout)          (None, 1, 1, 4096)        0         \n",
      "_________________________________________________________________\n",
      "conv2d_15 (Conv2D)           (None, 1, 1, 2622)        10742334  \n",
      "_________________________________________________________________\n",
      "flatten (Flatten)            (None, 2622)              0         \n",
      "_________________________________________________________________\n",
      "activation (Activation)      (None, 2622)              0         \n",
      "=================================================================\n",
      "Total params: 145,002,878\n",
      "Trainable params: 145,002,878\n",
      "Non-trainable params: 0\n",
      "_________________________________________________________________\n",
      "None\n"
     ]
    }
   ],
   "source": [
    "model = get_model()\n",
    "print(model.summary())"
   ]
  },
  {
   "cell_type": "code",
   "execution_count": 71,
   "id": "49b458bc",
   "metadata": {},
   "outputs": [],
   "source": [
    "def crop_face(filename, required_size=(224, 224)):\n",
    "    img = cv2.imread(filename)\n",
    "    detector = MTCNN()\n",
    "    results = detector.detect_faces(img)\n",
    "    print(results)\n",
    "    x, y, width, height = results[0]['box']\n",
    "    face = img[y:y+height, x:x+width]\n",
    "    image = Image.fromarray(face)\n",
    "    image = image.resize(required_size)\n",
    "    face_array = np.asarray(image)\n",
    "#     print(\"face\",face)\n",
    "#     print(\"Face_array\",face_array)\n",
    "#     print(\"face_array shape\",face_array.shape)\n",
    "    return face_array, face"
   ]
  },
  {
   "cell_type": "code",
   "execution_count": 149,
   "id": "a49e8f16",
   "metadata": {},
   "outputs": [],
   "source": [
    "def who_is_this(img, vgg_face_descriptor):\n",
    "    face_array, face = crop_face(img)\n",
    "    face_array = face_array.astype('float32')\n",
    "    input_sample = np.expand_dims(face_array, axis=0)\n",
    "    img_prediction = vgg_face_descriptor.predict(preprocess_input(input_sample))\n",
    "#     xa = img_prediction[0]\n",
    "#     xa = xa.reshape(-1, 1)\n",
    "#     min_max_scaler = preprocessing.MinMaxScaler()\n",
    "#     xa = min_max_scaler.fit_transform(xa)\n",
    "#     xa = xa.reshape((2622,))\n",
    "#     img_prediction[0] = xa\n",
    "#     results = decode_predictions(img_prediction)\n",
    "#     print(results)\n",
    "\n",
    "    results = decode_predictions(img_prediction)\n",
    "    prediction = results[0][0][0].replace(\"b'\", \"\").replace(\"'\",\"\")\n",
    "    nm.append(prediction)\n",
    "    val.append(results[0][0][1])\n",
    "    if results[0][0][1] < 10:\n",
    "        prediction = \"Face not found\"\n",
    "#     print(\"input_sample\",input_sample)\n",
    "#     print(\"img_prediction\",img_prediction)\n",
    "    print(\"-------------------------------------------------\")\n",
    "    print(\"resuls\",results)\n",
    "    return prediction"
   ]
  },
  {
   "cell_type": "code",
   "execution_count": 150,
   "id": "8f4bebe6",
   "metadata": {},
   "outputs": [],
   "source": [
    "from sklearn import preprocessing"
   ]
  },
  {
   "cell_type": "code",
   "execution_count": 151,
   "id": "fe9c2e38",
   "metadata": {},
   "outputs": [],
   "source": [
    "def get_prediction(image_path):\n",
    "    model.load_weights(os.path.join(os.getcwd(), \"weights\", \"vgg_face_weights.h5\"))\n",
    "    vgg_face_descriptor = Model(inputs=model.layers[0].input,\\\n",
    "                                outputs=model.layers[-2].output)\n",
    "    print(\"descriptor\",vgg_face_descriptor)\n",
    "#     print(type(vgg_face_descriptor))\n",
    "#     print(dir(vgg_face_descriptor))\n",
    "    return who_is_this(image_path, vgg_face_descriptor)\n"
   ]
  },
  {
   "cell_type": "code",
   "execution_count": 152,
   "id": "e2fd878e",
   "metadata": {},
   "outputs": [],
   "source": [
    "import seaborn as sns\n",
    "import matplotlib.pyplot as plt\n"
   ]
  },
  {
   "cell_type": "code",
   "execution_count": 155,
   "id": "bce98a10",
   "metadata": {
    "scrolled": true
   },
   "outputs": [
    {
     "name": "stdout",
     "output_type": "stream",
     "text": [
      "0\n",
      "descriptor <keras.engine.functional.Functional object at 0x000002802B046F70>\n",
      "[{'box': [222, 162, 489, 611], 'confidence': 0.9994869232177734, 'keypoints': {'left_eye': (416, 381), 'right_eye': (635, 388), 'nose': (567, 484), 'mouth_left': (429, 624), 'mouth_right': (612, 630)}}]\n",
      "-------------------------------------------------\n",
      "resuls [[[\"b'Snoop_Dogg'\", 18.898455], [\"b'Eamonn_Walker'\", 10.564778], [\"b'Katt_Williams'\", 10.027606], [\"b'Billy_Dee_Williams'\", 9.815744], [\"b'Jeffrey_Wright'\", 9.257688]]]\n",
      "1\n",
      "descriptor <keras.engine.functional.Functional object at 0x0000028091A77B20>\n",
      "[{'box': [230, 165, 348, 443], 'confidence': 0.995890736579895, 'keypoints': {'left_eye': (341, 342), 'right_eye': (504, 332), 'nose': (436, 420), 'mouth_left': (364, 509), 'mouth_right': (497, 500)}}]\n",
      "-------------------------------------------------\n",
      "resuls [[[\"b'Taylor_Swift'\", 21.846882], [\"b'Izabella_Scorupco'\", 13.686166], [\"b'Hannah_Spearritt'\", 13.5892515], [\"b'Diora_Baird'\", 12.308874], [\"b'MyAnna_Buring'\", 12.094967]]]\n",
      "2\n",
      "descriptor <keras.engine.functional.Functional object at 0x000002809642BAC0>\n",
      "[{'box': [380, 266, 427, 545], 'confidence': 0.9998550415039062, 'keypoints': {'left_eye': (506, 488), 'right_eye': (700, 479), 'nose': (609, 579), 'mouth_left': (525, 682), 'mouth_right': (695, 672)}}]\n",
      "-------------------------------------------------\n",
      "resuls [[[\"b'Diane_Kruger'\", 9.450601], [\"b'Hannah_Spearritt'\", 9.004519], [\"b'Carrie_Underwood'\", 8.580675], [\"b'Samira_Wiley'\", 7.832658], [\"b'Marc_Webb'\", 7.710842]]]\n",
      "3\n",
      "descriptor <keras.engine.functional.Functional object at 0x0000028095FCDA30>\n",
      "[{'box': [129, 114, 221, 281], 'confidence': 0.9998339414596558, 'keypoints': {'left_eye': (194, 231), 'right_eye': (299, 233), 'nose': (249, 296), 'mouth_left': (192, 323), 'mouth_right': (295, 325)}}]\n",
      "-------------------------------------------------\n",
      "resuls [[[\"b'Joey_King'\", 16.778288], [\"b'Hunter_King'\", 14.289033], [\"b'Katy_Perry'\", 12.296224], [\"b'Becca_Tobin'\", 11.650161], [\"b'Morgan_Lily'\", 10.171434]]]\n",
      "4\n",
      "descriptor <keras.engine.functional.Functional object at 0x000002809627CB20>\n",
      "[{'box': [450, 158, 332, 436], 'confidence': 0.9992446899414062, 'keypoints': {'left_eye': (500, 323), 'right_eye': (647, 326), 'nose': (528, 404), 'mouth_left': (506, 497), 'mouth_right': (634, 507)}}]\n",
      "-------------------------------------------------\n",
      "resuls [[[\"b'Akshay_Kumar'\", 9.0033455], [\"b'Jeffrey_Tambor'\", 7.644706], [\"b'Ricardo_Pereira'\", 6.929312], [\"b'William_Devane'\", 6.706368], [\"b'Carlos_Ponce'\", 6.581563]]]\n",
      "5\n",
      "descriptor <keras.engine.functional.Functional object at 0x0000028096408940>\n",
      "[{'box': [490, 66, 259, 343], 'confidence': 0.9984073042869568, 'keypoints': {'left_eye': (568, 207), 'right_eye': (691, 197), 'nose': (641, 285), 'mouth_left': (589, 337), 'mouth_right': (690, 329)}}]\n",
      "-------------------------------------------------\n",
      "resuls [[[\"b'John_Abraham'\", 16.487656], [\"b'Sendhil_Ramamurthy'\", 10.385962], [\"b'Eugenio_Derbez'\", 9.884772], [\"b'Fawad_Khan'\", 8.778316], [\"b'Ricardo_Chavira'\", 8.727704]]]\n",
      "6\n",
      "descriptor <keras.engine.functional.Functional object at 0x00000280359EED90>\n",
      "[{'box': [76, 31, 57, 76], 'confidence': 0.9950835704803467, 'keypoints': {'left_eye': (92, 62), 'right_eye': (118, 62), 'nose': (106, 78), 'mouth_left': (94, 89), 'mouth_right': (118, 88)}}]\n",
      "-------------------------------------------------\n",
      "resuls [[[\"b'Tim_Pocock'\", 21.826015], [\"b'Billy_Campbell'\", 9.756983], [\"b'Stephen_Colletti'\", 9.340751], [\"b'Jonathan_Sadowski'\", 9.178966], [\"b'Patrick_Fugit'\", 8.983111]]]\n",
      "7\n",
      "descriptor <keras.engine.functional.Functional object at 0x0000028095A39910>\n",
      "[{'box': [240, 314, 577, 746], 'confidence': 0.9999722242355347, 'keypoints': {'left_eye': (439, 585), 'right_eye': (693, 614), 'nose': (567, 752), 'mouth_left': (411, 861), 'mouth_right': (657, 892)}}]\n",
      "-------------------------------------------------\n",
      "resuls [[[\"b'Luke_Wilson'\", 13.389552], [\"b'Martin_Henderson'\", 10.135085], [\"b'Adam_Garcia'\", 7.977163], [\"b'Eoin_Macken'\", 7.365362], [\"b'Luke_Arnold'\", 7.1215534]]]\n",
      "8\n",
      "descriptor <keras.engine.functional.Functional object at 0x0000028074B56250>\n",
      "[{'box': [117, 233, 344, 458], 'confidence': 0.9980772733688354, 'keypoints': {'left_eye': (185, 424), 'right_eye': (332, 404), 'nose': (238, 518), 'mouth_left': (209, 590), 'mouth_right': (357, 572)}}]\n",
      "-------------------------------------------------\n",
      "resuls [[[\"b'Adam_Levine'\", 15.492413], [\"b'Dylan_McDermott'\", 9.321845], [\"b'Zachary_Quinto'\", 9.159567], [\"b'Adam_Beach'\", 8.709546], [\"b'Nestor_Carbonell'\", 7.8922462]]]\n",
      "9\n",
      "descriptor <keras.engine.functional.Functional object at 0x0000028091A85250>\n",
      "[{'box': [60, 38, 89, 118], 'confidence': 0.995332658290863, 'keypoints': {'left_eye': (86, 82), 'right_eye': (128, 86), 'nose': (104, 112), 'mouth_left': (84, 128), 'mouth_right': (120, 132)}}]\n",
      "-------------------------------------------------\n",
      "resuls [[[\"b'Adam_Garcia'\", 10.308445], [\"b'Dougray_Scott'\", 7.771738], [\"b'Eric_Dane'\", 7.6465287], [\"b'Shane_West'\", 7.421899], [\"b'Stephen_Baldwin'\", 7.2587104]]]\n",
      "10\n",
      "descriptor <keras.engine.functional.Functional object at 0x00000280968A8280>\n",
      "[{'box': [300, 139, 346, 414], 'confidence': 0.9999914169311523, 'keypoints': {'left_eye': (382, 290), 'right_eye': (544, 289), 'nose': (452, 352), 'mouth_left': (393, 454), 'mouth_right': (525, 457)}}]\n",
      "-------------------------------------------------\n",
      "resuls [[[\"b'Bruno_Mars'\", 8.096049], [\"b'Adam_Garcia'\", 7.6069465], [\"b'Adam_Copeland'\", 7.2430153], [\"b'Noel_Clarke'\", 6.8774567], [\"b'A.J._Buckley'\", 6.68919]]]\n",
      "11\n",
      "descriptor <keras.engine.functional.Functional object at 0x0000028095894A90>\n",
      "[{'box': [73, 32, 51, 64], 'confidence': 0.9973965883255005, 'keypoints': {'left_eye': (86, 58), 'right_eye': (109, 57), 'nose': (97, 72), 'mouth_left': (87, 80), 'mouth_right': (110, 79)}}]\n",
      "-------------------------------------------------\n",
      "resuls [[[\"b'Tim_Russ'\", 16.901243], [\"b'Blair_Underwood'\", 10.01021], [\"b'Forest_Whitaker'\", 9.475924], [\"b'A.J._Buckley'\", 8.139355], [\"b'Adrianne_Palicki'\", 7.680894]]]\n",
      "[1, 1, 0, 1, 0, 1, 1, 1, 1, 1, 0, 0]\n",
      "['Snoop_Dogg', 'Taylor_Swift', 'Diane_Kruger', 'Joey_King', 'Akshay_Kumar', 'John_Abraham', 'Tim_Pocock', 'Luke_Wilson', 'Adam_Levine', 'Adam_Garcia', 'Bruno_Mars', 'Tim_Russ']\n",
      "[18.898455, 21.846882, 9.450601, 16.778288, 9.0033455, 16.487656, 21.826015, 13.389552, 15.492413, 10.308445, 8.096049, 16.901243]\n",
      "accuracy: 0.6666666666666666\n"
     ]
    }
   ],
   "source": [
    "if __name__ == \"__main__\":\n",
    "    lst = ['Snoop_Dogg', 'Taylor_Swift','Katy_Perry','Joey_King','Akshay_Kumar','John_Abraham','Tim_Pocock','Luke_Wilson','Adam_Levine','Adam_Garcia','Tim_Russ','John_Terry']\n",
    "    arr = []\n",
    "    nm = []\n",
    "    val = []\n",
    "    a=0\n",
    "    for i in range(len(lst)):\n",
    "        print(i)\n",
    "        if get_prediction('C:\\\\Users\\\\shakt\\\\Desktop\\\\testdata\\\\adam_garcia\\\\'+str(i+1)+'.jpg') == lst[i]:\n",
    "            arr.append(1)\n",
    "            \n",
    "            a+=1\n",
    "        else:\n",
    "            arr.append(0)\n",
    "        \n",
    "    print(arr)\n",
    "    print(nm)\n",
    "    print(val)\n",
    "    print(\"accuracy:\", a/len(arr))\n",
    "        \n",
    "    print(get_prediction('C:\\\\Users\\\\shakt\\\\Desktop\\\\testdata\\\\adam_garcia\\\\1.jpg'))"
   ]
  },
  {
   "cell_type": "code",
   "execution_count": 154,
   "id": "d2e59276",
   "metadata": {},
   "outputs": [
    {
     "data": {
      "image/png": "[encoded data removed]",
      "text/plain": [
       "<Figure size 1440x576 with 1 Axes>"
      ]
     },
     "metadata": {
      "needs_background": "light"
     },
     "output_type": "display_data"
    }
   ],
   "source": [
    "plt.figure(figsize=(20,8))\n",
    "plt.title(\"Test Performance of the model\")\n",
    "plt.xlabel(\"Predicted Names\")\n",
    "plt.ylabel(\"Predicted scores for the Faces\")\n",
    "sns.lineplot(x = nm,y = val,markers='g^')\n",
    "plt.annotate('The markers represent the actual names', xy=(0, 1), xytext=(750, -20), va='baseline',xycoords='axes fraction', textcoords='offset points',color='r',fontsize = 15)\n",
    "for x, y in zip(nm,val):\n",
    "#     print(x,y)\n",
    "    plt.text(x = x,y = y,s = ''+lst[nm.index(x)].format(y),color = 'r')\n",
    "\n"
   ]
  },
  {
   "cell_type": "markdown",
   "id": "09ddf264",
   "metadata": {},
   "source": [
    "# This is for a single value viewing preprocessed data entering the model (for understanding)"
   ]
  },
  {
   "cell_type": "code",
   "execution_count": 156,
   "id": "1fc103d9",
   "metadata": {},
   "outputs": [],
   "source": [
    "def who_is_this2(img, vgg_face_descriptor):\n",
    "    face_array, face = crop_face(img)\n",
    "    face_array = face_array.astype('float32')\n",
    "    input_sample = np.expand_dims(face_array, axis=0)\n",
    "    img_prediction = vgg_face_descriptor.predict(preprocess_input(input_sample))\n",
    "#     xa = img_prediction[0]\n",
    "#     xa = xa.reshape(-1, 1)\n",
    "#     min_max_scaler = preprocessing.MinMaxScaler()\n",
    "#     xa = min_max_scaler.fit_transform(xa)\n",
    "#     xa = xa.reshape((2622,))\n",
    "#     img_prediction[0] = xa\n",
    "#     results = decode_predictions(img_prediction)\n",
    "#     print(results\n",
    "    print(input_sample)\n",
    "    print(preprocess_input(input_sample))\n",
    "    print(\"img_prediction\",img_prediction)\n",
    "    results = decode_predictions(img_prediction)\n",
    "    prediction = results[0][0][0].replace(\"b'\", \"\").replace(\"'\",\"\")\n",
    "    nm.append(prediction)\n",
    "    val.append(results[0][0][1])\n",
    "    if results[0][0][1] < 10:\n",
    "        prediction = \"Face not found\"\n",
    "#     print(\"input_sample\",input_sample)\n",
    "#     print(\"img_prediction\",img_prediction)\n",
    "    print(\"-------------------------------------------------\")\n",
    "    print(\"resuls\",results)\n",
    "    return prediction"
   ]
  },
  {
   "cell_type": "code",
   "execution_count": 157,
   "id": "cdc86212",
   "metadata": {},
   "outputs": [],
   "source": [
    "def get_prediction(image_path):\n",
    "    model.load_weights(os.path.join(os.getcwd(), \"weights\", \"vgg_face_weights.h5\"))\n",
    "    vgg_face_descriptor = Model(inputs=model.layers[0].input,\\\n",
    "                                outputs=model.layers[-2].output)\n",
    "    print(\"descriptor\",vgg_face_descriptor)\n",
    "#     print(type(vgg_face_descriptor))\n",
    "#     print(dir(vgg_face_descriptor))\n",
    "    return who_is_this2(image_path, vgg_face_descriptor)\n"
   ]
  },
  {
   "cell_type": "code",
   "execution_count": 158,
   "id": "029a485e",
   "metadata": {},
   "outputs": [
    {
     "name": "stdout",
     "output_type": "stream",
     "text": [
      "descriptor <keras.engine.functional.Functional object at 0x0000028095882D90>\n",
      "[{'box': [222, 162, 489, 611], 'confidence': 0.9994869232177734, 'keypoints': {'left_eye': (416, 381), 'right_eye': (635, 388), 'nose': (567, 484), 'mouth_left': (429, 624), 'mouth_right': (612, 630)}}]\n",
      "[[[[ 73.  65.  69.]\n",
      "   [ 97.  95.  98.]\n",
      "   [ 36.  37.  38.]\n",
      "   ...\n",
      "   [231. 194. 166.]\n",
      "   [231. 195. 164.]\n",
      "   [232. 197. 164.]]\n",
      "\n",
      "  [[ 87.  80.  81.]\n",
      "   [114. 112. 114.]\n",
      "   [ 62.  63.  64.]\n",
      "   ...\n",
      "   [231. 194. 166.]\n",
      "   [232. 196. 165.]\n",
      "   [232. 197. 164.]]\n",
      "\n",
      "  [[ 83.  80.  80.]\n",
      "   [ 83.  84.  86.]\n",
      "   [ 63.  64.  65.]\n",
      "   ...\n",
      "   [233. 195. 164.]\n",
      "   [233. 195. 163.]\n",
      "   [233. 195. 163.]]\n",
      "\n",
      "  ...\n",
      "\n",
      "  [[225. 225. 225.]\n",
      "   [233. 232. 233.]\n",
      "   [229. 230. 235.]\n",
      "   ...\n",
      "   [134. 133. 122.]\n",
      "   [133. 131. 120.]\n",
      "   [134. 133. 121.]]\n",
      "\n",
      "  [[231. 236. 230.]\n",
      "   [227. 232. 228.]\n",
      "   [205. 208. 208.]\n",
      "   ...\n",
      "   [120. 124. 115.]\n",
      "   [118. 121. 114.]\n",
      "   [117. 119. 113.]]\n",
      "\n",
      "  [[231. 234. 241.]\n",
      "   [211. 213. 225.]\n",
      "   [205. 205. 215.]\n",
      "   ...\n",
      "   [ 93.  97.  97.]\n",
      "   [ 92.  94.  96.]\n",
      "   [ 90.  91.  96.]]]]\n",
      "[[[[-24.594002  -39.762398  -56.186295 ]\n",
      "   [  4.405998   -9.762398  -32.186295 ]\n",
      "   [-55.594     -67.7624    -93.186295 ]\n",
      "   ...\n",
      "   [ 72.406      89.2376    101.813705 ]\n",
      "   [ 70.406      90.2376    101.813705 ]\n",
      "   [ 70.406      92.2376    102.813705 ]]\n",
      "\n",
      "  [[-12.594002  -24.762398  -42.186295 ]\n",
      "   [ 20.405998    7.237602  -15.186295 ]\n",
      "   [-29.594002  -41.762398  -67.186295 ]\n",
      "   ...\n",
      "   [ 72.406      89.2376    101.813705 ]\n",
      "   [ 71.406      91.2376    102.813705 ]\n",
      "   [ 70.406      92.2376    102.813705 ]]\n",
      "\n",
      "  [[-13.594002  -24.762398  -46.186295 ]\n",
      "   [ -7.594002  -20.762398  -46.186295 ]\n",
      "   [-28.594002  -40.762398  -66.186295 ]\n",
      "   ...\n",
      "   [ 70.406      90.2376    103.813705 ]\n",
      "   [ 69.406      90.2376    103.813705 ]\n",
      "   [ 69.406      90.2376    103.813705 ]]\n",
      "\n",
      "  ...\n",
      "\n",
      "  [[131.406     120.2376     95.813705 ]\n",
      "   [139.406     127.2376    103.813705 ]\n",
      "   [141.406     125.2376     99.813705 ]\n",
      "   ...\n",
      "   [ 28.405998   28.237602    4.8137054]\n",
      "   [ 26.405998   26.237602    3.8137054]\n",
      "   [ 27.405998   28.237602    4.8137054]]\n",
      "\n",
      "  [[136.406     131.23761   101.813705 ]\n",
      "   [134.406     127.2376     97.813705 ]\n",
      "   [114.406     103.2376     75.813705 ]\n",
      "   ...\n",
      "   [ 21.405998   19.237602   -9.186295 ]\n",
      "   [ 20.405998   16.237602  -11.186295 ]\n",
      "   [ 19.405998   14.237602  -12.186295 ]]\n",
      "\n",
      "  [[147.406     129.23761   101.813705 ]\n",
      "   [131.406     108.2376     81.813705 ]\n",
      "   [121.406     100.2376     75.813705 ]\n",
      "   ...\n",
      "   [  3.4059982  -7.762398  -36.186295 ]\n",
      "   [  2.4059982 -10.762398  -37.186295 ]\n",
      "   [  2.4059982 -13.762398  -39.186295 ]]]]\n",
      "img_prediction [[ 2.9017282  3.9772565 -2.1597345 ... -0.7239802  1.9390888 -1.5225909]]\n",
      "-------------------------------------------------\n",
      "resuls [[[\"b'Snoop_Dogg'\", 18.898455], [\"b'Eamonn_Walker'\", 10.564778], [\"b'Katt_Williams'\", 10.027606], [\"b'Billy_Dee_Williams'\", 9.815744], [\"b'Jeffrey_Wright'\", 9.257688]]]\n",
      "Snoop_Dogg\n"
     ]
    }
   ],
   "source": [
    "if __name__ == \"__main__\":\n",
    "        \n",
    "    print(get_prediction('C:\\\\Users\\\\shakt\\\\Desktop\\\\testdata\\\\adam_garcia\\\\1.jpg'))"
   ]
  },
  {
   "cell_type": "code",
   "execution_count": null,
   "id": "81668ff2",
   "metadata": {},
   "outputs": [],
   "source": []
  }
 ],
 "metadata": {
  "kernelspec": {
   "display_name": "Python 3",
   "language": "python",
   "name": "python3"
  },
  "language_info": {
   "codemirror_mode": {
    "name": "ipython",
    "version": 3
   },
   "file_extension": ".py",
   "mimetype": "text/x-python",
   "name": "python",
   "nbconvert_exporter": "python",
   "pygments_lexer": "ipython3",
   "version": "3.8.8"
  }
 },
 "nbformat": 4,
 "nbformat_minor": 5
}
