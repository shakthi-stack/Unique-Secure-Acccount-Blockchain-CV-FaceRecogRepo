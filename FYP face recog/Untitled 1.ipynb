{
 "cells": [
  {
   "cell_type": "code",
   "execution_count": 2,
   "id": "4fe476e8",
   "metadata": {},
   "outputs": [],
   "source": [
    "from tensorflow.keras.models import Sequential\n",
    "from tensorflow.keras.layers import Conv2D, ZeroPadding2D, MaxPooling2D, \\\n",
    "                                    Dropout, Flatten, Activation\n",
    "\n",
    "\n",
    "def get_model():\n",
    "    model = Sequential()\n",
    "    model.add(ZeroPadding2D((1,1),input_shape=(224,224, 3)))\n",
    "    model.add(Conv2D(64, (3, 3), activation='relu'))\n",
    "    model.add(ZeroPadding2D((1,1)))\n",
    "    model.add(Conv2D(64, (3, 3), activation='relu'))\n",
    "    model.add(MaxPooling2D((2,2), strides=(2,2)))\n",
    "    \n",
    "    model.add(ZeroPadding2D((1,1)))\n",
    "    model.add(Conv2D(128, (3, 3), activation='relu'))\n",
    "    model.add(ZeroPadding2D((1,1)))\n",
    "    model.add(Conv2D(128, (3, 3), activation='relu'))\n",
    "    model.add(MaxPooling2D((2,2), strides=(2,2)))\n",
    "    \n",
    "    model.add(ZeroPadding2D((1,1)))\n",
    "    model.add(Conv2D(256, (3, 3), activation='relu'))\n",
    "    model.add(ZeroPadding2D((1,1)))\n",
    "    model.add(Conv2D(256, (3, 3), activation='relu'))\n",
    "    model.add(ZeroPadding2D((1,1)))\n",
    "    model.add(Conv2D(256, (3, 3), activation='relu'))\n",
    "    model.add(MaxPooling2D((2,2), strides=(2,2)))\n",
    "    \n",
    "    model.add(ZeroPadding2D((1,1)))\n",
    "    model.add(Conv2D(512, (3, 3), activation='relu'))\n",
    "    model.add(ZeroPadding2D((1,1)))\n",
    "    model.add(Conv2D(512, (3, 3), activation='relu'))\n",
    "    model.add(ZeroPadding2D((1,1)))\n",
    "    model.add(Conv2D(512, (3, 3), activation='relu'))\n",
    "    model.add(MaxPooling2D((2,2), strides=(2,2)))\n",
    "    \n",
    "    model.add(ZeroPadding2D((1,1)))\n",
    "    model.add(Conv2D(512, (3, 3), activation='relu'))\n",
    "    model.add(ZeroPadding2D((1,1)))\n",
    "    model.add(Conv2D(512, (3, 3), activation='relu'))\n",
    "    model.add(ZeroPadding2D((1,1)))\n",
    "    model.add(Conv2D(512, (3, 3), activation='relu'))\n",
    "    model.add(MaxPooling2D((2,2), strides=(2,2)))\n",
    "    \n",
    "    model.add(Conv2D(4096, (7, 7), activation='relu'))\n",
    "    model.add(Dropout(0.5))\n",
    "    model.add(Conv2D(4096, (1, 1), activation='relu'))\n",
    "    model.add(Dropout(0.5))\n",
    "    model.add(Conv2D(2622, (1, 1)))\n",
    "    model.add(Flatten())\n",
    "    model.add(Activation('softmax'))\n",
    "    return model"
   ]
  },
  {
   "cell_type": "code",
   "execution_count": 3,
   "id": "6118271c",
   "metadata": {},
   "outputs": [],
   "source": [
    "def crop_face(filename, required_size=(224, 224)):\n",
    "    img = cv2.imread(filename)\n",
    "    detector = MTCNN()\n",
    "    results = detector.detect_faces(img)\n",
    "    x, y, width, height = results[0]['box']\n",
    "    face = img[y:y+height, x:x+width]\n",
    "    image = Image.fromarray(face)\n",
    "    image = image.resize(required_size)\n",
    "    face_array = np.asarray(image)\n",
    "    return face_array, face"
   ]
  },
  {
   "cell_type": "code",
   "execution_count": 4,
   "id": "76928c24",
   "metadata": {},
   "outputs": [],
   "source": [
    "import os\n",
    "os.environ['TF_CPP_MIN_LOG_LEVEL'] = '3'\n",
    "\n",
    "from PIL import Image\n",
    "import numpy as np\n",
    "from matplotlib import pyplot as plt"
   ]
  },
  {
   "cell_type": "code",
   "execution_count": 5,
   "id": "cbd61efd",
   "metadata": {},
   "outputs": [],
   "source": [
    "import tensorflow as tf"
   ]
  },
  {
   "cell_type": "code",
   "execution_count": 6,
   "id": "99c4c8f8",
   "metadata": {},
   "outputs": [],
   "source": [
    "from tensorflow.keras.models import Model"
   ]
  },
  {
   "cell_type": "code",
   "execution_count": 7,
   "id": "dcce4475",
   "metadata": {},
   "outputs": [
    {
     "name": "stdout",
     "output_type": "stream",
     "text": [
      "Requirement already satisfied: opencv-python in c:\\users\\shakt\\anaconda3\\envs\\vggfacemodel\\lib\\site-packages (4.5.3.56)\n",
      "Requirement already satisfied: numpy>=1.17.3 in c:\\users\\shakt\\anaconda3\\envs\\vggfacemodel\\lib\\site-packages (from opencv-python) (1.19.5)\n",
      "Note: you may need to restart the kernel to use updated packages.\n"
     ]
    }
   ],
   "source": [
    "pip install opencv-python"
   ]
  },
  {
   "cell_type": "code",
   "execution_count": 8,
   "id": "77b3f416",
   "metadata": {},
   "outputs": [],
   "source": [
    "import cv2"
   ]
  },
  {
   "cell_type": "code",
   "execution_count": 9,
   "id": "211c999c",
   "metadata": {},
   "outputs": [],
   "source": [
    "from mtcnn import MTCNN"
   ]
  },
  {
   "cell_type": "code",
   "execution_count": 10,
   "id": "a97982b0",
   "metadata": {},
   "outputs": [
    {
     "name": "stdout",
     "output_type": "stream",
     "text": [
      "Requirement already satisfied: mtcnn in c:\\users\\shakt\\anaconda3\\envs\\vggfacemodel\\lib\\site-packages (0.1.1)\n",
      "Requirement already satisfied: keras>=2.0.0 in c:\\users\\shakt\\anaconda3\\envs\\vggfacemodel\\lib\\site-packages (from mtcnn) (2.6.0)\n",
      "Requirement already satisfied: opencv-python>=4.1.0 in c:\\users\\shakt\\anaconda3\\envs\\vggfacemodel\\lib\\site-packages (from mtcnn) (4.5.3.56)\n",
      "Requirement already satisfied: numpy>=1.17.3 in c:\\users\\shakt\\anaconda3\\envs\\vggfacemodel\\lib\\site-packages (from opencv-python>=4.1.0->mtcnn) (1.19.5)\n",
      "Note: you may need to restart the kernel to use updated packages.\n"
     ]
    }
   ],
   "source": [
    "pip install mtcnn"
   ]
  },
  {
   "cell_type": "code",
   "execution_count": 11,
   "id": "af40db48",
   "metadata": {},
   "outputs": [
    {
     "name": "stdout",
     "output_type": "stream",
     "text": [
      "Collecting git+https://github.com/rcmalli/keras-vggface.git\n",
      "  Cloning https://github.com/rcmalli/keras-vggface.git to c:\\users\\shakt\\appdata\\local\\temp\\pip-req-build-xmi0ce6f\n",
      "Requirement already satisfied: numpy>=1.9.1 in c:\\users\\shakt\\anaconda3\\envs\\vggfacemodel\\lib\\site-packages (from keras-vggface==0.6) (1.19.5)\n",
      "Requirement already satisfied: scipy>=0.14 in c:\\users\\shakt\\anaconda3\\envs\\vggfacemodel\\lib\\site-packages (from keras-vggface==0.6) (1.6.2)\n",
      "Requirement already satisfied: h5py in c:\\users\\shakt\\anaconda3\\envs\\vggfacemodel\\lib\\site-packages (from keras-vggface==0.6) (3.1.0)\n",
      "Requirement already satisfied: pillow in c:\\users\\shakt\\anaconda3\\envs\\vggfacemodel\\lib\\site-packages (from keras-vggface==0.6) (8.2.0)\n",
      "Requirement already satisfied: keras in c:\\users\\shakt\\anaconda3\\envs\\vggfacemodel\\lib\\site-packages (from keras-vggface==0.6) (2.6.0)\n",
      "Requirement already satisfied: six>=1.9.0 in c:\\users\\shakt\\anaconda3\\envs\\vggfacemodel\\lib\\site-packages (from keras-vggface==0.6) (1.15.0)\n",
      "Requirement already satisfied: pyyaml in c:\\users\\shakt\\anaconda3\\envs\\vggfacemodel\\lib\\site-packages (from keras-vggface==0.6) (5.4.1)\n",
      "Note: you may need to restart the kernel to use updated packages.\n"
     ]
    },
    {
     "name": "stderr",
     "output_type": "stream",
     "text": [
      "  Running command git clone -q https://github.com/rcmalli/keras-vggface.git 'C:\\Users\\shakt\\AppData\\Local\\Temp\\pip-req-build-xmi0ce6f'\n"
     ]
    }
   ],
   "source": [
    "pip install git+https://github.com/rcmalli/keras-vggface.git"
   ]
  },
  {
   "cell_type": "code",
   "execution_count": 12,
   "id": "ef7f928f",
   "metadata": {},
   "outputs": [],
   "source": [
    "# import keras \n",
    "# from keras.applications.vgg16 import VGG16 \n",
    "# vggmodel = VGG16(weights='imagenet', include_top=True)\n",
    "# # import keras \\ from keras.applications.vgg16 import VGG16 \\ vggmodel = VGG16(weights='imagenet', include_top=True)"
   ]
  },
  {
   "cell_type": "code",
   "execution_count": 13,
   "id": "5f9f2a3a",
   "metadata": {},
   "outputs": [
    {
     "name": "stdout",
     "output_type": "stream",
     "text": [
      "Requirement already satisfied: keras_applications in c:\\users\\shakt\\anaconda3\\envs\\vggfacemodel\\lib\\site-packages (1.0.8)\n",
      "Requirement already satisfied: h5py in c:\\users\\shakt\\anaconda3\\envs\\vggfacemodel\\lib\\site-packages (from keras_applications) (3.1.0)\n",
      "Requirement already satisfied: numpy>=1.9.1 in c:\\users\\shakt\\anaconda3\\envs\\vggfacemodel\\lib\\site-packages (from keras_applications) (1.19.5)\n",
      "Note: you may need to restart the kernel to use updated packages.\n"
     ]
    }
   ],
   "source": [
    "pip install keras_applications"
   ]
  },
  {
   "cell_type": "code",
   "execution_count": 14,
   "id": "6e2db9d5",
   "metadata": {},
   "outputs": [
    {
     "name": "stdout",
     "output_type": "stream",
     "text": [
      "Collecting git+https://github.com/cehorn/GLRM.git\n",
      "  Cloning https://github.com/cehorn/GLRM.git to c:\\users\\shakt\\appdata\\local\\temp\\pip-req-build-kh0hiofl\n",
      "Requirement already satisfied: numpy>=1.8 in c:\\users\\shakt\\anaconda3\\envs\\vggfacemodel\\lib\\site-packages (from GLRM==0.0.1) (1.19.5)\n",
      "Requirement already satisfied: scipy>=0.13 in c:\\users\\shakt\\anaconda3\\envs\\vggfacemodel\\lib\\site-packages (from GLRM==0.0.1) (1.6.2)\n",
      "Note: you may need to restart the kernel to use updated packages.\n"
     ]
    },
    {
     "name": "stderr",
     "output_type": "stream",
     "text": [
      "  Running command git clone -q https://github.com/cehorn/GLRM.git 'C:\\Users\\shakt\\AppData\\Local\\Temp\\pip-req-build-kh0hiofl'\n"
     ]
    }
   ],
   "source": [
    "pip install git+https://github.com/cehorn/GLRM.git"
   ]
  },
  {
   "cell_type": "code",
   "execution_count": 29,
   "id": "38fbed15",
   "metadata": {},
   "outputs": [],
   "source": [
    "from keras_vggface.utils import preprocess_input\n",
    "from keras_vggface.utils import decode_predictions"
   ]
  },
  {
   "cell_type": "code",
   "execution_count": 30,
   "id": "f70f1f43",
   "metadata": {},
   "outputs": [],
   "source": [
    "from tensorflow.keras.layers import Layer, InputSpec"
   ]
  },
  {
   "cell_type": "code",
   "execution_count": 32,
   "id": "481e4551",
   "metadata": {
    "scrolled": true
   },
   "outputs": [
    {
     "ename": "ModuleNotFoundError",
     "evalue": "No module named 'keras.engine.topology'",
     "output_type": "error",
     "traceback": [
      "\u001b[1;31m---------------------------------------------------------------------------\u001b[0m",
      "\u001b[1;31mModuleNotFoundError\u001b[0m                       Traceback (most recent call last)",
      "\u001b[1;32m<ipython-input-32-229bb387e346>\u001b[0m in \u001b[0;36m<module>\u001b[1;34m\u001b[0m\n\u001b[1;32m----> 1\u001b[1;33m \u001b[1;32mfrom\u001b[0m \u001b[0mkeras_vggface\u001b[0m\u001b[1;33m.\u001b[0m\u001b[0mvggface\u001b[0m \u001b[1;32mimport\u001b[0m \u001b[0mVGGFace\u001b[0m\u001b[1;33m\u001b[0m\u001b[1;33m\u001b[0m\u001b[0m\n\u001b[0m",
      "\u001b[1;32m~\\anaconda3\\envs\\vggfacemodel\\lib\\site-packages\\keras_vggface\\__init__.py\u001b[0m in \u001b[0;36m<module>\u001b[1;34m\u001b[0m\n\u001b[1;32m----> 1\u001b[1;33m \u001b[1;32mfrom\u001b[0m \u001b[0mkeras_vggface\u001b[0m\u001b[1;33m.\u001b[0m\u001b[0mvggface\u001b[0m \u001b[1;32mimport\u001b[0m \u001b[0mVGGFace\u001b[0m\u001b[1;33m\u001b[0m\u001b[1;33m\u001b[0m\u001b[0m\n\u001b[0m\u001b[0;32m      2\u001b[0m \u001b[1;32mfrom\u001b[0m \u001b[0mkeras_vggface\u001b[0m\u001b[1;33m.\u001b[0m\u001b[0mversion\u001b[0m \u001b[1;32mimport\u001b[0m \u001b[0m__version__\u001b[0m\u001b[1;33m\u001b[0m\u001b[1;33m\u001b[0m\u001b[0m\n",
      "\u001b[1;32m~\\anaconda3\\envs\\vggfacemodel\\lib\\site-packages\\keras_vggface\\vggface.py\u001b[0m in \u001b[0;36m<module>\u001b[1;34m\u001b[0m\n\u001b[0;32m      7\u001b[0m '''\n\u001b[0;32m      8\u001b[0m \u001b[1;32mfrom\u001b[0m \u001b[0m__future__\u001b[0m \u001b[1;32mimport\u001b[0m \u001b[0mprint_function\u001b[0m\u001b[1;33m\u001b[0m\u001b[1;33m\u001b[0m\u001b[0m\n\u001b[1;32m----> 9\u001b[1;33m \u001b[1;32mfrom\u001b[0m \u001b[0mkeras_vggface\u001b[0m\u001b[1;33m.\u001b[0m\u001b[0mmodels\u001b[0m \u001b[1;32mimport\u001b[0m \u001b[0mRESNET50\u001b[0m\u001b[1;33m,\u001b[0m \u001b[0mVGG16\u001b[0m\u001b[1;33m,\u001b[0m \u001b[0mSENET50\u001b[0m\u001b[1;33m\u001b[0m\u001b[1;33m\u001b[0m\u001b[0m\n\u001b[0m\u001b[0;32m     10\u001b[0m \u001b[1;33m\u001b[0m\u001b[0m\n\u001b[0;32m     11\u001b[0m \u001b[1;33m\u001b[0m\u001b[0m\n",
      "\u001b[1;32m~\\anaconda3\\envs\\vggfacemodel\\lib\\site-packages\\keras_vggface\\models.py\u001b[0m in \u001b[0;36m<module>\u001b[1;34m\u001b[0m\n\u001b[0;32m     18\u001b[0m \u001b[1;32mfrom\u001b[0m \u001b[0mkeras\u001b[0m \u001b[1;32mimport\u001b[0m \u001b[0mbackend\u001b[0m \u001b[1;32mas\u001b[0m \u001b[0mK\u001b[0m\u001b[1;33m\u001b[0m\u001b[1;33m\u001b[0m\u001b[0m\n\u001b[0;32m     19\u001b[0m \u001b[1;32mfrom\u001b[0m \u001b[0mkeras_vggface\u001b[0m \u001b[1;32mimport\u001b[0m \u001b[0mutils\u001b[0m\u001b[1;33m\u001b[0m\u001b[1;33m\u001b[0m\u001b[0m\n\u001b[1;32m---> 20\u001b[1;33m \u001b[1;32mfrom\u001b[0m \u001b[0mkeras\u001b[0m\u001b[1;33m.\u001b[0m\u001b[0mengine\u001b[0m\u001b[1;33m.\u001b[0m\u001b[0mtopology\u001b[0m \u001b[1;32mimport\u001b[0m \u001b[0mget_source_inputs\u001b[0m\u001b[1;33m\u001b[0m\u001b[1;33m\u001b[0m\u001b[0m\n\u001b[0m\u001b[0;32m     21\u001b[0m \u001b[1;32mimport\u001b[0m \u001b[0mwarnings\u001b[0m\u001b[1;33m\u001b[0m\u001b[1;33m\u001b[0m\u001b[0m\n\u001b[0;32m     22\u001b[0m \u001b[1;32mfrom\u001b[0m \u001b[0mkeras\u001b[0m\u001b[1;33m.\u001b[0m\u001b[0mmodels\u001b[0m \u001b[1;32mimport\u001b[0m \u001b[0mModel\u001b[0m\u001b[1;33m\u001b[0m\u001b[1;33m\u001b[0m\u001b[0m\n",
      "\u001b[1;31mModuleNotFoundError\u001b[0m: No module named 'keras.engine.topology'"
     ]
    }
   ],
   "source": [
    "from keras_vggface.vggface import VGGFace"
   ]
  },
  {
   "cell_type": "code",
   "execution_count": 31,
   "id": "922bd6bc",
   "metadata": {},
   "outputs": [],
   "source": [
    "import tensorflow.python.keras.engine"
   ]
  },
  {
   "cell_type": "code",
   "execution_count": 20,
   "id": "75f9f36e",
   "metadata": {},
   "outputs": [],
   "source": [
    "from model import get_model"
   ]
  },
  {
   "cell_type": "code",
   "execution_count": 21,
   "id": "8135c294",
   "metadata": {},
   "outputs": [
    {
     "name": "stdout",
     "output_type": "stream",
     "text": [
      "Model: \"sequential\"\n",
      "_________________________________________________________________\n",
      "Layer (type)                 Output Shape              Param #   \n",
      "=================================================================\n",
      "zero_padding2d (ZeroPadding2 (None, 226, 226, 3)       0         \n",
      "_________________________________________________________________\n",
      "conv2d (Conv2D)              (None, 224, 224, 64)      1792      \n",
      "_________________________________________________________________\n",
      "zero_padding2d_1 (ZeroPaddin (None, 226, 226, 64)      0         \n",
      "_________________________________________________________________\n",
      "conv2d_1 (Conv2D)            (None, 224, 224, 64)      36928     \n",
      "_________________________________________________________________\n",
      "max_pooling2d (MaxPooling2D) (None, 112, 112, 64)      0         \n",
      "_________________________________________________________________\n",
      "zero_padding2d_2 (ZeroPaddin (None, 114, 114, 64)      0         \n",
      "_________________________________________________________________\n",
      "conv2d_2 (Conv2D)            (None, 112, 112, 128)     73856     \n",
      "_________________________________________________________________\n",
      "zero_padding2d_3 (ZeroPaddin (None, 114, 114, 128)     0         \n",
      "_________________________________________________________________\n",
      "conv2d_3 (Conv2D)            (None, 112, 112, 128)     147584    \n",
      "_________________________________________________________________\n",
      "max_pooling2d_1 (MaxPooling2 (None, 56, 56, 128)       0         \n",
      "_________________________________________________________________\n",
      "zero_padding2d_4 (ZeroPaddin (None, 58, 58, 128)       0         \n",
      "_________________________________________________________________\n",
      "conv2d_4 (Conv2D)            (None, 56, 56, 256)       295168    \n",
      "_________________________________________________________________\n",
      "zero_padding2d_5 (ZeroPaddin (None, 58, 58, 256)       0         \n",
      "_________________________________________________________________\n",
      "conv2d_5 (Conv2D)            (None, 56, 56, 256)       590080    \n",
      "_________________________________________________________________\n",
      "zero_padding2d_6 (ZeroPaddin (None, 58, 58, 256)       0         \n",
      "_________________________________________________________________\n",
      "conv2d_6 (Conv2D)            (None, 56, 56, 256)       590080    \n",
      "_________________________________________________________________\n",
      "max_pooling2d_2 (MaxPooling2 (None, 28, 28, 256)       0         \n",
      "_________________________________________________________________\n",
      "zero_padding2d_7 (ZeroPaddin (None, 30, 30, 256)       0         \n",
      "_________________________________________________________________\n",
      "conv2d_7 (Conv2D)            (None, 28, 28, 512)       1180160   \n",
      "_________________________________________________________________\n",
      "zero_padding2d_8 (ZeroPaddin (None, 30, 30, 512)       0         \n",
      "_________________________________________________________________\n",
      "conv2d_8 (Conv2D)            (None, 28, 28, 512)       2359808   \n",
      "_________________________________________________________________\n",
      "zero_padding2d_9 (ZeroPaddin (None, 30, 30, 512)       0         \n",
      "_________________________________________________________________\n",
      "conv2d_9 (Conv2D)            (None, 28, 28, 512)       2359808   \n",
      "_________________________________________________________________\n",
      "max_pooling2d_3 (MaxPooling2 (None, 14, 14, 512)       0         \n",
      "_________________________________________________________________\n",
      "zero_padding2d_10 (ZeroPaddi (None, 16, 16, 512)       0         \n",
      "_________________________________________________________________\n",
      "conv2d_10 (Conv2D)           (None, 14, 14, 512)       2359808   \n",
      "_________________________________________________________________\n",
      "zero_padding2d_11 (ZeroPaddi (None, 16, 16, 512)       0         \n",
      "_________________________________________________________________\n",
      "conv2d_11 (Conv2D)           (None, 14, 14, 512)       2359808   \n",
      "_________________________________________________________________\n",
      "zero_padding2d_12 (ZeroPaddi (None, 16, 16, 512)       0         \n",
      "_________________________________________________________________\n",
      "conv2d_12 (Conv2D)           (None, 14, 14, 512)       2359808   \n",
      "_________________________________________________________________\n",
      "max_pooling2d_4 (MaxPooling2 (None, 7, 7, 512)         0         \n",
      "_________________________________________________________________\n",
      "conv2d_13 (Conv2D)           (None, 1, 1, 4096)        102764544 \n",
      "_________________________________________________________________\n",
      "dropout (Dropout)            (None, 1, 1, 4096)        0         \n",
      "_________________________________________________________________\n",
      "conv2d_14 (Conv2D)           (None, 1, 1, 4096)        16781312  \n",
      "_________________________________________________________________\n",
      "dropout_1 (Dropout)          (None, 1, 1, 4096)        0         \n",
      "_________________________________________________________________\n",
      "conv2d_15 (Conv2D)           (None, 1, 1, 2622)        10742334  \n",
      "_________________________________________________________________\n",
      "flatten (Flatten)            (None, 2622)              0         \n",
      "_________________________________________________________________\n",
      "activation (Activation)      (None, 2622)              0         \n",
      "=================================================================\n",
      "Total params: 145,002,878\n",
      "Trainable params: 145,002,878\n",
      "Non-trainable params: 0\n",
      "_________________________________________________________________\n",
      "None\n"
     ]
    }
   ],
   "source": [
    "model = get_model()\n",
    "print(model.summary())"
   ]
  },
  {
   "cell_type": "code",
   "execution_count": 117,
   "id": "44341916",
   "metadata": {},
   "outputs": [],
   "source": [
    "def crop_face(filename, required_size=(224, 224)):\n",
    "    img = cv2.imread(filename)\n",
    "    detector = MTCNN()\n",
    "    results = detector.detect_faces(img)\n",
    "    print(results)\n",
    "    x, y, width, height = results[0]['box']\n",
    "    face = img[y:y+height, x:x+width]\n",
    "    image = Image.fromarray(face)\n",
    "    image = image.resize(required_size)\n",
    "    face_array = np.asarray(image)\n",
    "#     print(face_array)\n",
    "    print(face_array.shape)\n",
    "    return face_array, face"
   ]
  },
  {
   "cell_type": "code",
   "execution_count": 118,
   "id": "93c555cb",
   "metadata": {},
   "outputs": [],
   "source": [
    "def who_is_this(img, vgg_face_descriptor):\n",
    "    face_array, face = crop_face(img)\n",
    "    face_array = face_array.astype('float32')\n",
    "    input_sample = np.expand_dims(face_array, axis=0)\n",
    "    img_prediction = vgg_face_descriptor.predict(preprocess_input(input_sample))\n",
    "    results = decode_predictions(img_prediction)\n",
    "    prediction = results[0][0][0].replace(\"b'\", \"\").replace(\"'\",\"\")\n",
    "    print(img_prediction)\n",
    "    print(\"-------------------------------------------------\")\n",
    "    print(results)\n",
    "    return prediction"
   ]
  },
  {
   "cell_type": "code",
   "execution_count": 119,
   "id": "9b4539c6",
   "metadata": {},
   "outputs": [],
   "source": [
    "def get_prediction(image_path):\n",
    "    model.load_weights(os.path.join(os.getcwd(), \"weights\", \"vgg_face_weights.h5\"))\n",
    "    vgg_face_descriptor = Model(inputs=model.layers[0].input,\\\n",
    "                                outputs=model.layers[-2].output)\n",
    "    print(vgg_face_descriptor)\n",
    "    return who_is_this(image_path, vgg_face_descriptor)"
   ]
  },
  {
   "cell_type": "code",
   "execution_count": 135,
   "id": "54a01c69",
   "metadata": {
    "scrolled": true
   },
   "outputs": [
    {
     "name": "stdout",
     "output_type": "stream",
     "text": [
      "<keras.engine.functional.Functional object at 0x0000022CA7DAB9A0>\n",
      "[{'box': [40, 0, 95, 110], 'confidence': 0.9997640252113342, 'keypoints': {'left_eye': (62, 37), 'right_eye': (107, 35), 'nose': (80, 57), 'mouth_left': (66, 78), 'mouth_right': (106, 76)}}]\n",
      "(224, 224, 3)\n",
      "[[ 7.1432533  4.633157  -0.5285085 ... -4.31441    3.4041514  3.9842334]]\n",
      "-------------------------------------------------\n",
      "[[[\"b'Bruno_Mars'\", 20.850676], [\"b'Blair_Underwood'\", 9.84599], [\"b'Noel_Clarke'\", 9.80978], [\"b'Misha_Collins'\", 9.497942], [\"b'Britne_Oldford'\", 8.492285]]]\n",
      "Bruno_Mars\n"
     ]
    }
   ],
   "source": [
    "\n",
    "if __name__ == \"__main__\":\n",
    "    print(get_prediction('C:\\\\Users\\\\shakt\\\\Downloads\\\\bm.jpg'))"
   ]
  },
  {
   "cell_type": "code",
   "execution_count": 109,
   "id": "44c7ec8b",
   "metadata": {},
   "outputs": [],
   "source": [
    "import numpy as np\n",
    "l = np.load(\"C:\\\\Users\\\\shakt\\\\Downloads\\\\rcmalli_vggface_labels_v1.npy\")"
   ]
  },
  {
   "cell_type": "code",
   "execution_count": 134,
   "id": "8f7b4816",
   "metadata": {},
   "outputs": [
    {
     "data": {
      "text/plain": [
       "array(['A.J._Buckley', 'A.R._Rahman', 'Aamir_Khan', ..., 'Zsa_Zsa_Gabor',\n",
       "       'Zulay_Henao', 'Zuleyka_Silver'], dtype='<U33')"
      ]
     },
     "execution_count": 134,
     "metadata": {},
     "output_type": "execute_result"
    }
   ],
   "source": [
    "l"
   ]
  },
  {
   "cell_type": "code",
   "execution_count": 102,
   "id": "13ea8096",
   "metadata": {},
   "outputs": [
    {
     "name": "stdout",
     "output_type": "stream",
     "text": [
      "[[1, 5, 3, 4, 2], [0, 4, 2, 3, 1], [3, 3, 3, 3, 8], [3, 5, 5, 5, 5]]\n"
     ]
    }
   ],
   "source": [
    "l=[[1, 5, 3, 4, 2],\n",
    "[0 ,4 ,2 ,3 ,1],\n",
    "  [3 ,3 ,3,3 ,8],\n",
    "  [3 ,5,5 ,5 ,5]]\n",
    "print(l[-5:][:])"
   ]
  },
  {
   "cell_type": "code",
   "execution_count": 121,
   "id": "a9d40964",
   "metadata": {},
   "outputs": [],
   "source": [
    "import h5py"
   ]
  },
  {
   "cell_type": "code",
   "execution_count": 127,
   "id": "f9c5428b",
   "metadata": {},
   "outputs": [
    {
     "data": {
      "text/plain": [
       "<KeysViewHDF5 ['conv1_1', 'conv1_2', 'conv2_1', 'conv2_2', 'conv3_1', 'conv3_2', 'conv3_3', 'conv4_1', 'conv4_2', 'conv4_3', 'conv5_1', 'conv5_2', 'conv5_3', 'fc6', 'fc7', 'fc8', 'flatten', 'input_1', 'pool1', 'pool2', 'pool3', 'pool4', 'pool5']>"
      ]
     },
     "execution_count": 127,
     "metadata": {},
     "output_type": "execute_result"
    }
   ],
   "source": [
    "hf = h5py.File(\"C:\\\\Users\\\\shakt\\\\Downloads\\\\rcmalli_vggface_tf_vgg16.h5\", 'r')\n",
    "hf.keys()"
   ]
  },
  {
   "cell_type": "code",
   "execution_count": 131,
   "id": "8818e36d",
   "metadata": {},
   "outputs": [],
   "source": [
    "n1 = hf.get('conv1_1')"
   ]
  },
  {
   "cell_type": "code",
   "execution_count": 132,
   "id": "041bead1",
   "metadata": {},
   "outputs": [
    {
     "data": {
      "text/plain": [
       "h5py._hl.group.Group"
      ]
     },
     "execution_count": 132,
     "metadata": {},
     "output_type": "execute_result"
    }
   ],
   "source": [
    "type(n1)"
   ]
  },
  {
   "cell_type": "code",
   "execution_count": 133,
   "id": "556a3c8b",
   "metadata": {},
   "outputs": [
    {
     "data": {
      "text/plain": [
       "<HDF5 group \"/conv1_1\" (1 members)>"
      ]
     },
     "execution_count": 133,
     "metadata": {},
     "output_type": "execute_result"
    }
   ],
   "source": [
    "n1"
   ]
  },
  {
   "cell_type": "code",
   "execution_count": null,
   "id": "b98ea6ae",
   "metadata": {},
   "outputs": [],
   "source": []
  }
 ],
 "metadata": {
  "kernelspec": {
   "display_name": "Python 3",
   "language": "python",
   "name": "python3"
  },
  "language_info": {
   "codemirror_mode": {
    "name": "ipython",
    "version": 3
   },
   "file_extension": ".py",
   "mimetype": "text/x-python",
   "name": "python",
   "nbconvert_exporter": "python",
   "pygments_lexer": "ipython3",
   "version": "3.8.8"
  }
 },
 "nbformat": 4,
 "nbformat_minor": 5
}
